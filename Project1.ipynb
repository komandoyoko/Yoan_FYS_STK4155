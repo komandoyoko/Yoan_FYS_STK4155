{
 "cells": [
  {
   "cell_type": "markdown",
   "id": "df3d5b96",
   "metadata": {},
   "source": [
    "Part a) Ordinary Least Square (OLS) for the Runge function"
   ]
  },
  {
   "cell_type": "code",
   "execution_count": 2,
   "id": "73906d70",
   "metadata": {},
   "outputs": [],
   "source": [
    "#Starting by generating point of x in the interval [-1,1]\n",
    "\n",
    "import numpy as np \n",
    "\n",
    "#choosing 100 datapoints between 1 and -1 \n",
    "n = 100\n",
    "x = np.linspace (-1,1, n)\n",
    "\n",
    "#From the Runge function: for every x, compute the correspponding y\n",
    "y = 1/(1 + 25 * x**2)\n",
    "\n",
    "#Adding noise (Gaussian) with mean 0 and variance 1: N(0,1)\n",
    "noise = np.random.normal(0,1,n)\n",
    "y_noisy = y + 0.1 * noise"
   ]
  }
 ],
 "metadata": {
  "kernelspec": {
   "display_name": ".venv",
   "language": "python",
   "name": "python3"
  },
  "language_info": {
   "codemirror_mode": {
    "name": "ipython",
    "version": 3
   },
   "file_extension": ".py",
   "mimetype": "text/x-python",
   "name": "python",
   "nbconvert_exporter": "python",
   "pygments_lexer": "ipython3",
   "version": "3.9.6"
  }
 },
 "nbformat": 4,
 "nbformat_minor": 5
}
