{
 "cells": [
  {
   "cell_type": "markdown",
   "id": "df3d5b96",
   "metadata": {},
   "source": [
    "Part a) Ordinary Least Square (OLS) for the Runge function"
   ]
  },
  {
   "cell_type": "code",
   "execution_count": 2,
   "id": "73906d70",
   "metadata": {},
   "outputs": [
    {
     "name": "stdout",
     "output_type": "stream",
     "text": [
      "Train MSE: 0.4950870788997858\n"
     ]
    }
   ],
   "source": [
    "#Starting by generating point of x in the interval [-1,1]\n",
    "\n",
    "import numpy as np \n",
    "from sklearn.metrics import mean_squared_error\n",
    "\n",
    "#choosing datapoints between 1 and -1 \n",
    "n = 100\n",
    "x = np.linspace (-1,1, n)\n",
    "\n",
    "#From the Runge function: for every x, compute the correspponding y\n",
    "y = 1/(1 + 25 * x**2)\n",
    "\n",
    "#Adding noise (Gaussian) with mean 0 and variance 1: N(0,1)\n",
    "noise = np.random.normal(0,1,n)\n",
    "y_noisy = y + 0.1 * noise\n",
    "\n",
    "#Creating feature matrix with shape [1,x,x^2,x^3,x^4 ...]\n",
    "def polynomial_features(x, p):\n",
    "    n = len(x)\n",
    "    X = np.zeros((n, p + 1))\n",
    "    X[:, 0] = 1  # intercept column\n",
    "    for i in range(1, p + 1):\n",
    "        X[:, i] = x ** i\n",
    "    return X\n",
    "\n",
    "degree = 15 #\n",
    "X = polynomial_features(x, degree)\n",
    "\n",
    "#Calculating the OLS\n",
    "def OLS_parameters(X, y):\n",
    "    \n",
    "    beta_OLS = np.linalg.pinv(X) @ y #in case the matrix is not invertible\n",
    "    return beta_OLS\n",
    "\n",
    "beta = OLS_parameters(X, y_noisy)   # compute OLS coefficients\n",
    "y_pred = X @ beta\n",
    "\n",
    "#Calculating the MSE\n",
    "train_mse = mean_squared_error(x,y)\n",
    "print(\"Train MSE:\", train_mse)\n",
    "\n"
   ]
  }
 ],
 "metadata": {
  "kernelspec": {
   "display_name": ".venv",
   "language": "python",
   "name": "python3"
  },
  "language_info": {
   "codemirror_mode": {
    "name": "ipython",
    "version": 3
   },
   "file_extension": ".py",
   "mimetype": "text/x-python",
   "name": "python",
   "nbconvert_exporter": "python",
   "pygments_lexer": "ipython3",
   "version": "3.9.6"
  }
 },
 "nbformat": 4,
 "nbformat_minor": 5
}
