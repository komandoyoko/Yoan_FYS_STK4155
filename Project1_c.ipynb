{
 "cells": [
  {
   "cell_type": "code",
   "execution_count": null,
   "id": "bdb072b4",
   "metadata": {},
   "outputs": [],
   "source": [
    "eta = 0.001\n",
    "num_iters = 1000   # try larger\n",
    "n_samples, n_features = X.shape\n",
    "\n",
    "theta_gdOLS = np.zeros(n_features)\n",
    "theta_gdRidge = np.zeros(n_features)\n",
    "\n",
    "def ols_gradient(X, y, theta):\n",
    "    return (2/n_samples) * X.T @ (X @ theta - y)\n",
    "\n",
    "def ridge_gradient(X, y, theta, lam):\n",
    "    return (2/n_samples) * X.T @ (X @ theta - y) + 2 * lam * theta\n",
    "\n",
    "for t in range(num_iters):\n",
    "    grad_OLS = ols_gradient(X, y, theta_gdOLS)\n",
    "    grad_Ridge = ridge_gradient(X, y, theta_gdRidge, lam)\n",
    "\n",
    "    theta_gdOLS -= eta * grad_OLS\n",
    "    theta_gdRidge -= eta * grad_Ridge\n",
    "\n",
    "print(\"Gradient Descent OLS coefficients:\", theta_gdOLS)\n",
    "print(\"Gradient Descent Ridge coefficients:\", theta_gdRidge)\n"
   ]
  }
 ],
 "metadata": {
  "language_info": {
   "name": "python"
  }
 },
 "nbformat": 4,
 "nbformat_minor": 5
}
