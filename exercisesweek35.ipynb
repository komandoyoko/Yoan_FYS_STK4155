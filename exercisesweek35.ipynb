{
 "cells": [
  {
   "cell_type": "markdown",
   "id": "b4005770",
   "metadata": {},
   "source": [
    "# Exercises week 35\n",
    "\n",
    "## Deriving and Implementing Ordinary Least Squares"
   ]
  },
  {
   "cell_type": "markdown",
   "id": "2ca1b589",
   "metadata": {},
   "source": [
    "This week you will be deriving the analytical expressions for linear regression, building up the model from scratch. This will include taking several derivatives of products of vectors and matrices. Such derivatives are central to the optimization of many machine learning models. Although we will often use automatic differentiation in actual calculations, to be able to have analytical expressions is extremely helpful in case we have simpler derivatives as well as when we analyze various properties (like second derivatives) of the chosen cost functions.\n",
    "\n",
    "Vectors are always written as boldfaced lower case letters and matrices as upper case boldfaced letters. You will find useful the notes from week 35 on derivatives of vectors and matrices. See also the textbook of Faisal at al, chapter 5 and in particular sections 5.3-5.5 at <https://github.com/CompPhysics/MachineLearning/blob/master/doc/Textbooks/MathMLbook.pdf>"
   ]
  },
  {
   "cell_type": "markdown",
   "id": "41e92bf9",
   "metadata": {},
   "source": [
    "### Learning goals\n",
    "\n",
    "After completing these exercises, you will know how to\n",
    "- Take the derivatives of simple products between vectors and matrices\n",
    "- Implement OLS using the analytical expressions\n",
    "- Create a feature matrix from a set of data\n",
    "- Create a feature matrix for a polynomial model\n",
    "- Evaluate the MSE score of various model on training and test data, and comparing their performance\n",
    "\n",
    "### Deliverables\n",
    "\n",
    "Complete the following exercises while working in a jupyter notebook. Then, in canvas, include\n",
    "- The jupyter notebook with the exercises completed\n",
    "- An exported PDF of the notebook (https://code.visualstudio.com/docs/datascience/jupyter-notebooks#_export-your-jupyter-notebook)"
   ]
  },
  {
   "cell_type": "markdown",
   "id": "f7a9209d",
   "metadata": {},
   "source": [
    "## How to take derivatives of Matrix-Vector expressions"
   ]
  },
  {
   "cell_type": "markdown",
   "id": "45f3712e",
   "metadata": {},
   "source": [
    "In these exercises it is always useful to write out with summation indices the various quantities. Take also a look at the weekly slides from week 35 and the various examples included there.\n",
    "\n",
    "As an example, consider the function\n",
    "\n",
    "$$\n",
    "f(\\boldsymbol{x}) =\\boldsymbol{A}\\boldsymbol{x},\n",
    "$$\n",
    "\n",
    "which reads for a specific component $f_i$ (we define the matrix $\\boldsymbol{A}$ to have dimension $n\\times n$ and the vector $\\boldsymbol{x}$ to have length $n$)\n",
    "\n",
    "$$\n",
    "f_i =\\sum_{j=0}^{n-1}a_{ij}x_j,\n",
    "$$\n",
    "\n",
    "which leads to\n",
    "\n",
    "$$\n",
    "\\frac{\\partial f_i}{\\partial x_j}= a_{ij},\n",
    "$$\n",
    "\n",
    "and written out in terms of the vector $\\boldsymbol{x}$ we have\n",
    "\n",
    "$$\n",
    "\\frac{\\partial f(\\boldsymbol{x})}{\\partial \\boldsymbol{x}}= \\boldsymbol{A}.\n",
    "$$"
   ]
  },
  {
   "cell_type": "markdown",
   "id": "5fa8a4e6",
   "metadata": {},
   "source": [
    "## Exercise 1 - Finding the derivative of Matrix-Vector expressions"
   ]
  },
  {
   "cell_type": "markdown",
   "id": "df7a2270",
   "metadata": {},
   "source": [
    "**a)** Consider the expression\n",
    "\n",
    "$$\n",
    "\\frac{\\partial (\\boldsymbol{a}^T\\boldsymbol{x})}{\\partial \\boldsymbol{x}},\n",
    "$$\n",
    "\n",
    "Where $\\boldsymbol{a}$ and $\\boldsymbol{x}$ are column-vectors with length $n$.\n",
    "\n",
    "What is the *shape* of the expression we are taking the derivative of?\n",
    "\n",
    "If a and x are column vectors with the shape (n,1) the transponse (T) of a, would have the shape (1,n). We have a dot product of a^T and x which we result in scalar (1,1).\n",
    "\n",
    "What is the *shape* of the thing we are taking the derivative with respect to?\n",
    "\n",
    "As allready described above, it a column vector (n,1).\n",
    "\n",
    "What is the *shape* of the result of the expression?\n",
    "\n",
    "The derivative computes how the scalar output changes with respect to change in the components of the vector \"x\". The result will have the same shape as the vector with respect to which we differentiated (n,1)"
   ]
  },
  {
   "cell_type": "markdown",
   "id": "c0396734",
   "metadata": {},
   "source": [
    "**b)** Show that\n",
    "\n",
    "$$\n",
    "\\frac{\\partial (\\boldsymbol{a}^T\\boldsymbol{x})}{\\partial \\boldsymbol{x}} = \\boldsymbol{a}^T,\n",
    "$$\n",
    "\n",
    "Take the dot product:\n",
    "$$\n",
    "[ \\boldsymbol{a}^T \\boldsymbol{x} = a_1 x_1 + a_2 x_2 + \\ldots + a_n x_n ]\n",
    "$$\n",
    "\n",
    "The derivative:\n",
    "$$\n",
    "[ \\frac{\\partial (\\boldsymbol{a}^T \\boldsymbol{x})}{\\partial \\boldsymbol{x}} = \\begin{bmatrix} \\frac{\\partial}{\\partial x_1}(a_1 x_1 + a_2 x_2 + \\ldots + a_n x_n) \\ \\frac{\\partial}{\\partial x_2}(a_1 x_1 + a_2 x_2 + \\ldots + a_n x_n) \\ \\vdots \\ \\frac{\\partial}{\\partial x_n}(a_1 x_1 + a_2 x_2 + \\ldots + a_n x_n) \\end{bmatrix} ]\n",
    "$$\n",
    "\n",
    "Calculating each partial derivative:\n",
    "$$\n",
    " [ \\frac{\\partial}{\\partial x_i} (a_1 x_1 + a_2 x_2 + \\ldots + a_n x_n) = a_i \\quad \\text{for } i = 1, 2, \\ldots, n ]\n",
    "$$\n",
    "\n",
    "We get\n",
    "$$\n",
    "[ = \\begin{bmatrix} a_1 \\ a_2 \\ \\vdots \\ a_n \\end{bmatrix} = \\boldsymbol{a} ]\n",
    "$$\n",
    "\n",
    "$$\n",
    "\n",
    "$$"
   ]
  },
  {
   "cell_type": "markdown",
   "id": "dc39d541",
   "metadata": {},
   "source": [
    "**c)** Show that\n",
    "\n",
    "$$\n",
    "\\frac{\\partial (\\boldsymbol{a}^T\\boldsymbol{A}\\boldsymbol{a})}{\\partial \\boldsymbol{a}} = \\boldsymbol{a}^T(\\boldsymbol{A}+\\boldsymbol{A}^T),\n",
    "$$\n",
    "\n",
    "Using the product rule:\n",
    "$$\n",
    " [ \\frac{\\partial f}{\\partial \\boldsymbol{a}} = \\frac{\\partial (\\boldsymbol{a}^T \\boldsymbol{A} \\boldsymbol{a})}{\\partial \\boldsymbol{a}} ], (\\boldsymbol{A} \\boldsymbol{a}), (\\boldsymbol{b} = \\boldsymbol{A} \\boldsymbol{a})\n",
    "$$\n",
    "\n",
    "Differentiating using the chain rule \n",
    "$$\n",
    " [ \\frac{\\partial}{\\partial \\boldsymbol{a}} (\\boldsymbol{a}^T \\boldsymbol{b}) = \\boldsymbol{b} + \\boldsymbol{a}^T \\frac{\\partial \\boldsymbol{b}}{\\partial \\boldsymbol{a}} ]\n",
    "$$\n",
    "\n",
    "Then we substitute\n",
    "$$\n",
    "(\\frac{\\partial \\boldsymbol{b}}{\\partial \\boldsymbol{a}} = \\boldsymbol{A}), [ \\frac{\\partial (\\boldsymbol{a}^T \\boldsymbol{A} \\boldsymbol{a})}{\\partial \\boldsymbol{a}} = \\boldsymbol{A} \\boldsymbol{a} + \\boldsymbol{a}^T \\boldsymbol{A}]\n",
    "$$\n",
    "\n",
    "$$\n",
    " (\\boldsymbol{a}^T \\boldsymbol{A})\n",
    "$$ \n",
    "can be written as \n",
    "$$\n",
    " (\\boldsymbol{a}^T \\boldsymbol{A} = \\boldsymbol{a}^T \\boldsymbol{A} + \\boldsymbol{b}): [ = \\boldsymbol{a}^T \\boldsymbol{A} + \\boldsymbol{a}^T \\boldsymbol{A}^T = \\boldsymbol{a}^T (\\boldsymbol{A} + \\boldsymbol{A}^T) ]\n",
    "$$"
   ]
  },
  {
   "cell_type": "markdown",
   "id": "498d13ec",
   "metadata": {},
   "source": [
    "## Exercise 2 - Deriving the expression for OLS"
   ]
  },
  {
   "cell_type": "markdown",
   "id": "f3f771de",
   "metadata": {},
   "source": [
    "The ordinary least squares method finds the parameters $\\boldsymbol{\\theta}$ which minimizes the squared error between our model $\\boldsymbol{X\\theta}$ and the true values $\\boldsymbol{y}$.\n",
    "\n",
    "To find the parameters $\\boldsymbol{\\theta}$ which minimizes this error, we take the derivative of the squared error expression with respect to $\\boldsymbol{\\theta}$, and set it equal to 0."
   ]
  },
  {
   "cell_type": "markdown",
   "id": "49690237",
   "metadata": {},
   "source": [
    "**a)** Very briefly explain why the approach above finds the parameters $\\boldsymbol{\\theta}$ which minimizes this error."
   ]
  },
  {
   "cell_type": "markdown",
   "id": "b7cccc9d",
   "metadata": {},
   "source": [
    "We typically write the squared error as\n",
    "\n",
    "$$\n",
    "\\vert\\vert\\boldsymbol{y} - \\boldsymbol{X\\theta}\\vert\\vert^2\n",
    "$$\n",
    "\n",
    "which we can rewrite in matrix-vector form as\n",
    "\n",
    "$$\n",
    "\\left(\\boldsymbol{y}-\\boldsymbol{X}\\boldsymbol{\\theta}\\right)^T\\left(\\boldsymbol{y}-\\boldsymbol{X}\\boldsymbol{\\theta}\\right)\n",
    "$$\n",
    "\n",
    "The squared error is a quadratic function of \"theta\". Quadratic functions have a unique global minimum if the coefficient matrix, in this case\n",
    "$$\n",
    "(\\boldsymbol{X}^T\\boldsymbol{X})\n",
    "$$ \n",
    "is positive definite. Finding the parameters \"theta\", involves taking the derivative of the error function with respect to \"theta\" and setting it to zero. This condition identifies the stationary points of the function. By setting the derivative to zero, we identify potential minima, as the derivative indicates the slope of the error function. At the minimum, the slope is zero. It is a convex function. "
   ]
  },
  {
   "cell_type": "markdown",
   "id": "8fbecf74",
   "metadata": {},
   "source": [
    "**b)** If $\\boldsymbol{X}$ is invertible, what is the expression for the optimal parameters $\\boldsymbol{\\theta}$? (**Hint:** Don't compute any derivatives, but solve $\\boldsymbol{X\\theta}=\\boldsymbol{y}$ for $\\boldsymbol{\\theta}$)\n",
    "\n",
    "To express $\\boldsymbol{\\theta}$ we can multiply both sides by the inverse of $\\boldsymbol{X}$ and we get the expression $(\\boldsymbol{\\theta} = \\boldsymbol{X}^{-1} \\boldsymbol{y})$\n"
   ]
  },
  {
   "cell_type": "markdown",
   "id": "f37af8f0",
   "metadata": {},
   "source": [
    "**c)** Show that\n",
    "\n",
    "$$\n",
    "\\frac{\\partial \\left(\\boldsymbol{x}-\\boldsymbol{A}\\boldsymbol{s}\\right)^T\\left(\\boldsymbol{x}-\\boldsymbol{A}\\boldsymbol{s}\\right)}{\\partial \\boldsymbol{s}} = -2\\left(\\boldsymbol{x}-\\boldsymbol{A}\\boldsymbol{s}\\right)^T\\boldsymbol{A},\n",
    "$$\n",
    "\n",
    "Using the fact that the derivative of a quadratic expression $( \\bold{e}^T \\bold{e} )$ is: $[ \\frac{\\partial (\\bold{e}^T \\bold{e})}{\\partial \\bold{s}} = 2\\bold{e}^T\\frac{\\partial \\bold{e}}{\\partial \\bold{s}}, ]$ we need to find $(\\frac{\\partial \\bold{e}}{\\partial \\bold{s}})$\n",
    "\n",
    "From the example 5.12 in the book $(\\bold{e}): [ \\bold{e} = \\bold{x} - \\bold{A}\\bold{s} ]$ Thus, the derivative $( \\frac{\\partial \\bold{e}}{\\partial \\bold{s}} )$ is: $[ \\frac{\\partial \\bold{e}}{\\partial \\bold{s}} = -\\bold{A}]$\n",
    "\n",
    "Now substituting back into the derivative of the squared error: $[ \\frac{\\partial \\left( \\bold{x} - \\bold{A}\\bold{s} \\right)^T \\left( \\bold{x} - \\bold{A}\\bold{s} \\right)}{\\partial \\bold{s}} = 2\\left( \\bold{x} - \\bold{A}\\bold{s} \\right)^T \\left(-\\bold{A}\\right) ]$ and simplifies to: $[ = -2\\left( \\bold{x} - \\bold{A}\\bold{s} \\right)^T \\bold{A} ]$"
   ]
  },
  {
   "cell_type": "markdown",
   "id": "869fca4d",
   "metadata": {},
   "source": [
    "**d)** Using the expression from **c)**, but substituting back in $\\boldsymbol{\\theta}$, $\\boldsymbol{y}$ and $\\boldsymbol{X}$, find the expression for the optimal parameters $\\boldsymbol{\\theta}$ in the case that $\\boldsymbol{X}$ is not invertible, but $\\boldsymbol{X^T X}$ is, which is most often the case.\n",
    "\n",
    "To find the optimal parameters $(\\boldsymbol{\\hat{\\theta}_{OLS}})$, we set the derivative to zero:\n",
    "$[ -2\\left( \\bold{y} - \\bold{X}\\boldsymbol{\\theta} \\right)^T \\bold{X} = 0 ]$\n",
    "This simplifies to:\n",
    "$[ \\left( \\bold{y} - \\bold{X}\\boldsymbol{\\theta} \\right)^T \\bold{X} = 0 ]$\n",
    "\n",
    "Then $\\bold{y}^T \\bold{X} = \\bold{\\theta}^T \\bold{X}^T\\bold{X}$\n",
    "\n",
    "We can rearrange the equation to isolate $(\\boldsymbol{\\theta})$:\n",
    "$\\bold{X}^T \\bold{X} \\boldsymbol{\\theta} = \\bold{X}^T \\bold{y}$\n",
    "\n",
    "Since $(\\bold{X}^T \\bold{X})$ is assumed to be invertible, we can multiply both sides of the equation by the inverse:\n",
    "$\\boldsymbol{\\hat{\\theta}_{OLS}} = (\\bold{X}^T \\bold{X})^{-1} \\bold{X}^T \\bold{y}$"
   ]
  },
  {
   "cell_type": "markdown",
   "id": "57ca3d74",
   "metadata": {},
   "source": [
    "## Exercise 3 - Creating feature matrix and implementing OLS using the analytical expression"
   ]
  },
  {
   "cell_type": "markdown",
   "id": "5dc179f7",
   "metadata": {},
   "source": [
    "With the expression for $\\boldsymbol{\\hat{\\theta}_{OLS}}$, you now have what you need to implement OLS regression with your input data and target data $\\boldsymbol{y}$. But before you can do that, you need to set up you input data as a feature matrix $\\boldsymbol{X}$.\n",
    "\n",
    "In a feature matrix, each row is a datapoint and each column is a feature of that data. If you want to predict someones spending based on their income and number of children, for instance, you would create a row for each person in your dataset, with the montly income and the number of children as columns.\n",
    "\n",
    "We typically also include an intercept in our models. The intercept is a value that is added to our prediction regardless of the value of the other features. The intercept tries to account for constant effects in our data that are not dependant on anything else. In our current example, the intercept could account for living expenses which are typical regardless of income or childcare expenses.\n",
    "\n",
    "We calculate the optimal intercept by including a feature with the constant value of 1 in our model, which is then multplied by some parameter $\\theta_0$ from the OLS method into the optimal intercept value (which will be $\\theta_0$). In practice, we include the intercept in our model by adding a column of ones to the start of our feature matrix."
   ]
  },
  {
   "cell_type": "code",
   "execution_count": null,
   "id": "e5ff2a69",
   "metadata": {},
   "outputs": [],
   "source": [
    "import numpy as np\n"
   ]
  },
  {
   "cell_type": "code",
   "execution_count": 4,
   "id": "a3cf2792",
   "metadata": {},
   "outputs": [],
   "source": [
    "n = 20\n",
    "income = np.array([116., 161., 167., 118., 172., 163., 179., 173., 162., 116., 101., 176., 178., 172., 143., 135., 160., 101., 149., 125.])\n",
    "children = np.array([5, 3, 0, 4, 5, 3, 0, 4, 4, 3, 3, 5, 1, 0, 2, 3, 2, 1, 5, 4])\n",
    "spending = np.array([152., 141., 102., 136., 161., 129.,  99., 159., 160., 107.,  98., 164., 121.,  93., 112., 127., 117.,  69., 156., 131.])\n"
   ]
  },
  {
   "cell_type": "markdown",
   "id": "5da61481",
   "metadata": {},
   "source": [
    "**a)** Create a feature matrix $\\boldsymbol{X}$ for the features income and children, including an intercept column of ones at the start."
   ]
  },
  {
   "cell_type": "code",
   "execution_count": 7,
   "id": "5ad87a65",
   "metadata": {},
   "outputs": [
    {
     "name": "stdout",
     "output_type": "stream",
     "text": [
      "[[  1. 116.   5.]\n",
      " [  1. 161.   3.]\n",
      " [  1. 167.   0.]\n",
      " [  1. 118.   4.]\n",
      " [  1. 172.   5.]\n",
      " [  1. 163.   3.]\n",
      " [  1. 179.   0.]\n",
      " [  1. 173.   4.]\n",
      " [  1. 162.   4.]\n",
      " [  1. 116.   3.]\n",
      " [  1. 101.   3.]\n",
      " [  1. 176.   5.]\n",
      " [  1. 178.   1.]\n",
      " [  1. 172.   0.]\n",
      " [  1. 143.   2.]\n",
      " [  1. 135.   3.]\n",
      " [  1. 160.   2.]\n",
      " [  1. 101.   1.]\n",
      " [  1. 149.   5.]\n",
      " [  1. 125.   4.]]\n"
     ]
    }
   ],
   "source": [
    "# Create the feature matrix X\n",
    "X = np.zeros((n, 3))\n",
    "X[:, 0] = 1 \n",
    "X[:, 1] = income  \n",
    "X[:, 2] = children \n",
    "\n",
    "\n",
    "print(X)"
   ]
  },
  {
   "cell_type": "markdown",
   "id": "e0ddfac2",
   "metadata": {},
   "source": [
    "**b)** Use the expression from **3d)** to find the optimal parameters $\\boldsymbol{\\hat{\\beta}_{OLS}}$ for predicting spending based on these features. Create a function for this operation, as you are going to need to use it a lot."
   ]
  },
  {
   "cell_type": "code",
   "execution_count": 9,
   "id": "8f3f68aa",
   "metadata": {},
   "outputs": [
    {
     "name": "stdout",
     "output_type": "stream",
     "text": [
      "Optimal parameters (beta): [ 9.12808583  0.5119025  14.60743095]\n"
     ]
    }
   ],
   "source": [
    "def OLS_parameters(X, y):\n",
    "    \n",
    "    beta_OLS = np.linalg.inv(X.T @ X) @ X.T @ y\n",
    "    return beta_OLS\n",
    "\n",
    "\n",
    "beta = OLS_parameters(X, spending)\n",
    "print(\"Optimal parameters (beta):\", beta)"
   ]
  },
  {
   "cell_type": "markdown",
   "id": "0cb6da80",
   "metadata": {},
   "source": [
    "## Exercise 4 - Fitting a polynomial"
   ]
  },
  {
   "cell_type": "markdown",
   "id": "71015064",
   "metadata": {},
   "source": [
    "In this course, we typically do linear regression using polynomials, though in real world applications it is also very common to make linear models based on measured features like you did in the previous exercise.\n",
    "\n",
    "When fitting a polynomial with linear regression, we make each polynomial degree($x, x^2, x^3, ..., x^p$) its own feature."
   ]
  },
  {
   "cell_type": "code",
   "execution_count": 10,
   "id": "d7476c84",
   "metadata": {},
   "outputs": [],
   "source": [
    "n = 100\n",
    "x = np.linspace(-3, 3, n)\n",
    "y = np.exp(-x**2) + 1.5 * np.exp(-(x-2)**2) + np.random.normal(0, 0.1)"
   ]
  },
  {
   "cell_type": "markdown",
   "id": "8321451b",
   "metadata": {},
   "source": [
    "**a)** Create a feature matrix $\\boldsymbol{X}$ for the features $x, x^2, x^3, x^4, x^5$, including an intercept column of ones at the start. Make this into a function, as you will do this a lot over the next weeks."
   ]
  },
  {
   "cell_type": "code",
   "execution_count": 11,
   "id": "91496e40",
   "metadata": {},
   "outputs": [
    {
     "name": "stdout",
     "output_type": "stream",
     "text": [
      "[[ 1.00000000e+00 -3.00000000e+00  9.00000000e+00 -2.70000000e+01\n",
      "   8.10000000e+01 -2.43000000e+02]\n",
      " [ 1.00000000e+00 -2.93939394e+00  8.64003673e+00 -2.53964716e+01\n",
      "   7.46502347e+01 -2.19426447e+02]\n",
      " [ 1.00000000e+00 -2.87878788e+00  8.28741965e+00 -2.38577232e+01\n",
      "   6.86813245e+01 -1.97718964e+02]\n",
      " [ 1.00000000e+00 -2.81818182e+00  7.94214876e+00 -2.23824192e+01\n",
      "   6.30777269e+01 -1.77764503e+02]\n",
      " [ 1.00000000e+00 -2.75757576e+00  7.60422406e+00 -2.09692239e+01\n",
      "   5.78242235e+01 -1.59454677e+02]\n",
      " [ 1.00000000e+00 -2.69696970e+00  7.27364555e+00 -1.96168016e+01\n",
      "   5.29059195e+01 -1.42685662e+02]\n",
      " [ 1.00000000e+00 -2.63636364e+00  6.95041322e+00 -1.83238167e+01\n",
      "   4.83082440e+01 -1.27358098e+02]\n",
      " [ 1.00000000e+00 -2.57575758e+00  6.63452709e+00 -1.70889334e+01\n",
      "   4.40169497e+01 -1.13376992e+02]\n",
      " [ 1.00000000e+00 -2.51515152e+00  6.32598714e+00 -1.59108162e+01\n",
      "   4.00181133e+01 -1.00651618e+02]\n",
      " [ 1.00000000e+00 -2.45454545e+00  6.02479339e+00 -1.47881292e+01\n",
      "   3.62981354e+01 -8.90954232e+01]\n",
      " [ 1.00000000e+00 -2.39393939e+00  5.73094582e+00 -1.37195370e+01\n",
      "   3.28437400e+01 -7.86259231e+01]\n",
      " [ 1.00000000e+00 -2.33333333e+00  5.44444444e+00 -1.27037037e+01\n",
      "   2.96419753e+01 -6.91646091e+01]\n",
      " [ 1.00000000e+00 -2.27272727e+00  5.16528926e+00 -1.17392938e+01\n",
      "   2.66802131e+01 -6.06368480e+01]\n",
      " [ 1.00000000e+00 -2.21212121e+00  4.89348026e+00 -1.08249715e+01\n",
      "   2.39461490e+01 -5.29717842e+01]\n",
      " [ 1.00000000e+00 -2.15151515e+00  4.62901745e+00 -9.95940117e+00\n",
      "   2.14278025e+01 -4.61022418e+01]\n",
      " [ 1.00000000e+00 -2.09090909e+00  4.37190083e+00 -9.14124718e+00\n",
      "   1.91135168e+01 -3.99646261e+01]\n",
      " [ 1.00000000e+00 -2.03030303e+00  4.12213039e+00 -8.36917383e+00\n",
      "   1.69919590e+01 -3.44988258e+01]\n",
      " [ 1.00000000e+00 -1.96969697e+00  3.87970615e+00 -7.64184545e+00\n",
      "   1.50521198e+01 -2.96481148e+01]\n",
      " [ 1.00000000e+00 -1.90909091e+00  3.64462810e+00 -6.95792637e+00\n",
      "   1.32833140e+01 -2.53590540e+01]\n",
      " [ 1.00000000e+00 -1.84848485e+00  3.41689624e+00 -6.31608092e+00\n",
      "   1.16751799e+01 -2.15813931e+01]\n",
      " [ 1.00000000e+00 -1.78787879e+00  3.19651056e+00 -5.71497343e+00\n",
      "   1.02176798e+01 -1.82679729e+01]\n",
      " [ 1.00000000e+00 -1.72727273e+00  2.98347107e+00 -5.15326822e+00\n",
      "   8.90109965e+00 -1.53746267e+01]\n",
      " [ 1.00000000e+00 -1.66666667e+00  2.77777778e+00 -4.62962963e+00\n",
      "   7.71604938e+00 -1.28600823e+01]\n",
      " [ 1.00000000e+00 -1.60606061e+00  2.57943067e+00 -4.14272199e+00\n",
      "   6.65346258e+00 -1.06858641e+01]\n",
      " [ 1.00000000e+00 -1.54545455e+00  2.38842975e+00 -3.69120962e+00\n",
      "   5.70459668e+00 -8.81619487e+00]\n",
      " [ 1.00000000e+00 -1.48484848e+00  2.20477502e+00 -3.27375685e+00\n",
      "   4.86103290e+00 -7.21789734e+00]\n",
      " [ 1.00000000e+00 -1.42424242e+00  2.02846648e+00 -2.88902802e+00\n",
      "   4.11467627e+00 -5.86029651e+00]\n",
      " [ 1.00000000e+00 -1.36363636e+00  1.85950413e+00 -2.53568745e+00\n",
      "   3.45775562e+00 -4.71512130e+00]\n",
      " [ 1.00000000e+00 -1.30303030e+00  1.69788797e+00 -2.21239948e+00\n",
      "   2.88282356e+00 -3.75640646e+00]\n",
      " [ 1.00000000e+00 -1.24242424e+00  1.54361800e+00 -1.91782842e+00\n",
      "   2.38275652e+00 -2.96039447e+00]\n",
      " [ 1.00000000e+00 -1.18181818e+00  1.39669421e+00 -1.65063862e+00\n",
      "   1.95075473e+00 -2.30543741e+00]\n",
      " [ 1.00000000e+00 -1.12121212e+00  1.25711662e+00 -1.40949439e+00\n",
      "   1.58034220e+00 -1.77189883e+00]\n",
      " [ 1.00000000e+00 -1.06060606e+00  1.12488522e+00 -1.19306008e+00\n",
      "   1.26536675e+00 -1.34205564e+00]\n",
      " [ 1.00000000e+00 -1.00000000e+00  1.00000000e+00 -1.00000000e+00\n",
      "   1.00000000e+00 -1.00000000e+00]\n",
      " [ 1.00000000e+00 -9.39393939e-01  8.82460973e-01 -8.28978490e-01\n",
      "   7.78737370e-01 -7.31541165e-01]\n",
      " [ 1.00000000e+00 -8.78787879e-01  7.72268136e-01 -6.78659877e-01\n",
      "   5.96398074e-01 -5.24107398e-01]\n",
      " [ 1.00000000e+00 -8.18181818e-01  6.69421488e-01 -5.47708490e-01\n",
      "   4.48125128e-01 -3.66647832e-01]\n",
      " [ 1.00000000e+00 -7.57575758e-01  5.73921028e-01 -4.34788658e-01\n",
      "   3.29385347e-01 -2.49534354e-01]\n",
      " [ 1.00000000e+00 -6.96969697e-01  4.85766758e-01 -3.38564710e-01\n",
      "   2.35969344e-01 -1.64463482e-01]\n",
      " [ 1.00000000e+00 -6.36363636e-01  4.04958678e-01 -2.57700977e-01\n",
      "   1.63991531e-01 -1.04358247e-01]\n",
      " [ 1.00000000e+00 -5.75757576e-01  3.31496786e-01 -1.90861786e-01\n",
      "   1.09890119e-01 -6.32700686e-02]\n",
      " [ 1.00000000e+00 -5.15151515e-01  2.65381084e-01 -1.36711467e-01\n",
      "   7.04271195e-02 -3.62806373e-02]\n",
      " [ 1.00000000e+00 -4.54545455e-01  2.06611570e-01 -9.39143501e-02\n",
      "   4.26883410e-02 -1.94037913e-02]\n",
      " [ 1.00000000e+00 -3.93939394e-01  1.55188246e-01 -6.11347636e-02\n",
      "   2.40833917e-02 -9.48739674e-03]\n",
      " [ 1.00000000e+00 -3.33333333e-01  1.11111111e-01 -3.70370370e-02\n",
      "   1.23456790e-02 -4.11522634e-03]\n",
      " [ 1.00000000e+00 -2.72727273e-01  7.43801653e-02 -2.02854996e-02\n",
      "   5.53240899e-03 -1.50883882e-03]\n",
      " [ 1.00000000e+00 -2.12121212e-01  4.49954086e-02 -9.54448062e-03\n",
      "   2.02458680e-03 -4.29457806e-04]\n",
      " [ 1.00000000e+00 -1.51515152e-01  2.29568411e-02 -3.47830926e-03\n",
      "   5.27016555e-04 -7.98509932e-05]\n",
      " [ 1.00000000e+00 -9.09090909e-02  8.26446281e-03 -7.51314801e-04\n",
      "   6.83013455e-05 -6.20921323e-06]\n",
      " [ 1.00000000e+00 -3.03030303e-02  9.18273646e-04 -2.78264741e-05\n",
      "   8.43226488e-07 -2.55523178e-08]\n",
      " [ 1.00000000e+00  3.03030303e-02  9.18273646e-04  2.78264741e-05\n",
      "   8.43226488e-07  2.55523178e-08]\n",
      " [ 1.00000000e+00  9.09090909e-02  8.26446281e-03  7.51314801e-04\n",
      "   6.83013455e-05  6.20921323e-06]\n",
      " [ 1.00000000e+00  1.51515152e-01  2.29568411e-02  3.47830926e-03\n",
      "   5.27016555e-04  7.98509932e-05]\n",
      " [ 1.00000000e+00  2.12121212e-01  4.49954086e-02  9.54448062e-03\n",
      "   2.02458680e-03  4.29457806e-04]\n",
      " [ 1.00000000e+00  2.72727273e-01  7.43801653e-02  2.02854996e-02\n",
      "   5.53240899e-03  1.50883882e-03]\n",
      " [ 1.00000000e+00  3.33333333e-01  1.11111111e-01  3.70370370e-02\n",
      "   1.23456790e-02  4.11522634e-03]\n",
      " [ 1.00000000e+00  3.93939394e-01  1.55188246e-01  6.11347636e-02\n",
      "   2.40833917e-02  9.48739674e-03]\n",
      " [ 1.00000000e+00  4.54545455e-01  2.06611570e-01  9.39143501e-02\n",
      "   4.26883410e-02  1.94037913e-02]\n",
      " [ 1.00000000e+00  5.15151515e-01  2.65381084e-01  1.36711467e-01\n",
      "   7.04271195e-02  3.62806373e-02]\n",
      " [ 1.00000000e+00  5.75757576e-01  3.31496786e-01  1.90861786e-01\n",
      "   1.09890119e-01  6.32700686e-02]\n",
      " [ 1.00000000e+00  6.36363636e-01  4.04958678e-01  2.57700977e-01\n",
      "   1.63991531e-01  1.04358247e-01]\n",
      " [ 1.00000000e+00  6.96969697e-01  4.85766758e-01  3.38564710e-01\n",
      "   2.35969344e-01  1.64463482e-01]\n",
      " [ 1.00000000e+00  7.57575758e-01  5.73921028e-01  4.34788658e-01\n",
      "   3.29385347e-01  2.49534354e-01]\n",
      " [ 1.00000000e+00  8.18181818e-01  6.69421488e-01  5.47708490e-01\n",
      "   4.48125128e-01  3.66647832e-01]\n",
      " [ 1.00000000e+00  8.78787879e-01  7.72268136e-01  6.78659877e-01\n",
      "   5.96398074e-01  5.24107398e-01]\n",
      " [ 1.00000000e+00  9.39393939e-01  8.82460973e-01  8.28978490e-01\n",
      "   7.78737370e-01  7.31541165e-01]\n",
      " [ 1.00000000e+00  1.00000000e+00  1.00000000e+00  1.00000000e+00\n",
      "   1.00000000e+00  1.00000000e+00]\n",
      " [ 1.00000000e+00  1.06060606e+00  1.12488522e+00  1.19306008e+00\n",
      "   1.26536675e+00  1.34205564e+00]\n",
      " [ 1.00000000e+00  1.12121212e+00  1.25711662e+00  1.40949439e+00\n",
      "   1.58034220e+00  1.77189883e+00]\n",
      " [ 1.00000000e+00  1.18181818e+00  1.39669421e+00  1.65063862e+00\n",
      "   1.95075473e+00  2.30543741e+00]\n",
      " [ 1.00000000e+00  1.24242424e+00  1.54361800e+00  1.91782842e+00\n",
      "   2.38275652e+00  2.96039447e+00]\n",
      " [ 1.00000000e+00  1.30303030e+00  1.69788797e+00  2.21239948e+00\n",
      "   2.88282356e+00  3.75640646e+00]\n",
      " [ 1.00000000e+00  1.36363636e+00  1.85950413e+00  2.53568745e+00\n",
      "   3.45775562e+00  4.71512130e+00]\n",
      " [ 1.00000000e+00  1.42424242e+00  2.02846648e+00  2.88902802e+00\n",
      "   4.11467627e+00  5.86029651e+00]\n",
      " [ 1.00000000e+00  1.48484848e+00  2.20477502e+00  3.27375685e+00\n",
      "   4.86103290e+00  7.21789734e+00]\n",
      " [ 1.00000000e+00  1.54545455e+00  2.38842975e+00  3.69120962e+00\n",
      "   5.70459668e+00  8.81619487e+00]\n",
      " [ 1.00000000e+00  1.60606061e+00  2.57943067e+00  4.14272199e+00\n",
      "   6.65346258e+00  1.06858641e+01]\n",
      " [ 1.00000000e+00  1.66666667e+00  2.77777778e+00  4.62962963e+00\n",
      "   7.71604938e+00  1.28600823e+01]\n",
      " [ 1.00000000e+00  1.72727273e+00  2.98347107e+00  5.15326822e+00\n",
      "   8.90109965e+00  1.53746267e+01]\n",
      " [ 1.00000000e+00  1.78787879e+00  3.19651056e+00  5.71497343e+00\n",
      "   1.02176798e+01  1.82679729e+01]\n",
      " [ 1.00000000e+00  1.84848485e+00  3.41689624e+00  6.31608092e+00\n",
      "   1.16751799e+01  2.15813931e+01]\n",
      " [ 1.00000000e+00  1.90909091e+00  3.64462810e+00  6.95792637e+00\n",
      "   1.32833140e+01  2.53590540e+01]\n",
      " [ 1.00000000e+00  1.96969697e+00  3.87970615e+00  7.64184545e+00\n",
      "   1.50521198e+01  2.96481148e+01]\n",
      " [ 1.00000000e+00  2.03030303e+00  4.12213039e+00  8.36917383e+00\n",
      "   1.69919590e+01  3.44988258e+01]\n",
      " [ 1.00000000e+00  2.09090909e+00  4.37190083e+00  9.14124718e+00\n",
      "   1.91135168e+01  3.99646261e+01]\n",
      " [ 1.00000000e+00  2.15151515e+00  4.62901745e+00  9.95940117e+00\n",
      "   2.14278025e+01  4.61022418e+01]\n",
      " [ 1.00000000e+00  2.21212121e+00  4.89348026e+00  1.08249715e+01\n",
      "   2.39461490e+01  5.29717842e+01]\n",
      " [ 1.00000000e+00  2.27272727e+00  5.16528926e+00  1.17392938e+01\n",
      "   2.66802131e+01  6.06368480e+01]\n",
      " [ 1.00000000e+00  2.33333333e+00  5.44444444e+00  1.27037037e+01\n",
      "   2.96419753e+01  6.91646091e+01]\n",
      " [ 1.00000000e+00  2.39393939e+00  5.73094582e+00  1.37195370e+01\n",
      "   3.28437400e+01  7.86259231e+01]\n",
      " [ 1.00000000e+00  2.45454545e+00  6.02479339e+00  1.47881292e+01\n",
      "   3.62981354e+01  8.90954232e+01]\n",
      " [ 1.00000000e+00  2.51515152e+00  6.32598714e+00  1.59108162e+01\n",
      "   4.00181133e+01  1.00651618e+02]\n",
      " [ 1.00000000e+00  2.57575758e+00  6.63452709e+00  1.70889334e+01\n",
      "   4.40169497e+01  1.13376992e+02]\n",
      " [ 1.00000000e+00  2.63636364e+00  6.95041322e+00  1.83238167e+01\n",
      "   4.83082440e+01  1.27358098e+02]\n",
      " [ 1.00000000e+00  2.69696970e+00  7.27364555e+00  1.96168016e+01\n",
      "   5.29059195e+01  1.42685662e+02]\n",
      " [ 1.00000000e+00  2.75757576e+00  7.60422406e+00  2.09692239e+01\n",
      "   5.78242235e+01  1.59454677e+02]\n",
      " [ 1.00000000e+00  2.81818182e+00  7.94214876e+00  2.23824192e+01\n",
      "   6.30777269e+01  1.77764503e+02]\n",
      " [ 1.00000000e+00  2.87878788e+00  8.28741965e+00  2.38577232e+01\n",
      "   6.86813245e+01  1.97718964e+02]\n",
      " [ 1.00000000e+00  2.93939394e+00  8.64003673e+00  2.53964716e+01\n",
      "   7.46502347e+01  2.19426447e+02]\n",
      " [ 1.00000000e+00  3.00000000e+00  9.00000000e+00  2.70000000e+01\n",
      "   8.10000000e+01  2.43000000e+02]]\n"
     ]
    }
   ],
   "source": [
    "def polynomial_features(x, p):\n",
    "    n = len(x)\n",
    "    X = np.zeros((n, p + 1))\n",
    "    X[:, 0] = len(x)\n",
    "    X[:, 0] = 1 \n",
    "    for i in range(1, p + 1):\n",
    "        X[:, i] = x ** i  # \n",
    "    return X\n",
    "\n",
    "n = 100\n",
    "x = np.linspace(-3, 3, n)\n",
    "y = np.exp(-x**2) + 1.5 * np.exp(-(x-2)**2) + np.random.normal(0, 0.1)\n",
    "\n",
    "# Create the polynomial feature matrix for degrees 0 to 5\n",
    "X = polynomial_features(x, 5)\n",
    "\n",
    "print(X)"
   ]
  },
  {
   "cell_type": "markdown",
   "id": "b84b1e31",
   "metadata": {},
   "source": [
    "**b)** Use the expression from **3d)** to find the optimal parameters $\\boldsymbol{\\hat{\\beta}_{OLS}}$ for predicting $\\boldsymbol{y}$ based on these features. If you have done everything right so far, this code will not need changing."
   ]
  },
  {
   "cell_type": "code",
   "execution_count": 12,
   "id": "034f502c",
   "metadata": {},
   "outputs": [
    {
     "name": "stdout",
     "output_type": "stream",
     "text": [
      "Optimal parameters (beta): [ 0.82655652  0.27464654 -0.02326439  0.05342623 -0.0034652  -0.0087781 ]\n"
     ]
    }
   ],
   "source": [
    "beta = OLS_parameters(X, y)\n",
    "\n",
    "print(\"Optimal parameters (beta):\", beta)"
   ]
  },
  {
   "cell_type": "markdown",
   "id": "d703f788",
   "metadata": {},
   "source": [
    "**c)** Like in exercise 4 last week, split your feature matrix and target data into a training split and test split."
   ]
  },
  {
   "cell_type": "code",
   "execution_count": 15,
   "id": "29171358",
   "metadata": {},
   "outputs": [],
   "source": [
    "from sklearn.model_selection import train_test_split\n",
    "from sklearn.metrics import mean_squared_error\n",
    "\n",
    "X_train, X_test, y_train, y_test = train_test_split(X, y, test_size=0.2, random_state=42)"
   ]
  },
  {
   "cell_type": "markdown",
   "id": "a0e3509f",
   "metadata": {},
   "source": [
    "**d)** Train your model on the training data(find the parameters which best fit) and compute the MSE on both the training and test data."
   ]
  },
  {
   "cell_type": "code",
   "execution_count": 16,
   "id": "1e346f4c",
   "metadata": {},
   "outputs": [
    {
     "name": "stdout",
     "output_type": "stream",
     "text": [
      "Training MSE: 0.013358669300733133\n",
      "Test MSE: 0.016393199898149042\n"
     ]
    }
   ],
   "source": [
    "beta = OLS_parameters(X_train, y_train)\n",
    "y_train_pred = X_train @ beta\n",
    "y_test_pred = X_test @ beta\n",
    "\n",
    "train_mse = mean_squared_error(y_train, y_train_pred)\n",
    "test_mse = mean_squared_error(y_test, y_test_pred)\n",
    "\n",
    "print(\"Training MSE:\", train_mse)\n",
    "print(\"Test MSE:\", test_mse)"
   ]
  },
  {
   "cell_type": "markdown",
   "id": "7e431889",
   "metadata": {},
   "source": [
    "**e)** Do the same for each polynomial degree from 2 to 10, and plot the MSE on both the training and test data as a function of polynomial degree. The aim is to reproduce Figure 2.11 of [Hastie et al](https://github.com/CompPhysics/MLErasmus/blob/master/doc/Textbooks/elementsstat.pdf). Feel free to read the discussions leading to figure 2.11 of Hastie et al. "
   ]
  },
  {
   "cell_type": "code",
   "execution_count": 23,
   "id": "ceb57457",
   "metadata": {},
   "outputs": [
    {
     "data": {
      "image/png": "[encoded data removed]",
      "text/plain": [
       "<Figure size 1000x600 with 1 Axes>"
      ]
     },
     "metadata": {},
     "output_type": "display_data"
    }
   ],
   "source": [
    "import matplotlib.pyplot as plt\n",
    "\n",
    "#Just using what we have from before and putting it all in for loop from 2 to 11\n",
    "train_mses = []\n",
    "test_mses = []\n",
    "for degree in range(2, 11):\n",
    "    X = polynomial_features(x, degree) \n",
    "    X_train, X_test, y_train, y_test = train_test_split(X, y, test_size=0.2, random_state=42)  \n",
    "\n",
    "    beta = OLS_parameters(X_train, y_train)  \n",
    "    y_train_pred = X_train @ beta  \n",
    "    y_test_pred = X_test @ beta  \n",
    "\n",
    "   \n",
    "    train_mse = mean_squared_error(y_train, y_train_pred)\n",
    "    test_mse = mean_squared_error(y_test, y_test_pred)\n",
    "\n",
    "    train_mses.append(train_mse)\n",
    "    test_mses.append(test_mse)\n",
    "\n",
    "# Plot the MSE values\n",
    "plt.figure(figsize=(10, 6))\n",
    "plt.plot(range(2, 11), train_mses, marker='o', label='Training MSE')\n",
    "plt.plot(range(2, 11), test_mses, marker='o', label='Test MSE')\n",
    "plt.title('Mean Squared Error as a Function of Polynomial Degree')\n",
    "plt.xlabel('Polynomial Degree')\n",
    "plt.ylabel('Mean Squared Error')\n",
    "plt.xticks(range(2, 11))\n",
    "plt.legend()\n",
    "plt.grid()\n",
    "plt.show()"
   ]
  },
  {
   "cell_type": "markdown",
   "id": "5e5b5954",
   "metadata": {},
   "source": [
    "**f)** Interpret the graph. Why do the lines move as they do? What does it tell us about model performance and generalizability?"
   ]
  },
  {
   "cell_type": "markdown",
   "id": "ad2acfb9",
   "metadata": {},
   "source": [
    "The MSE is decreasing as the polynomial is increasing. The trade of between variance and bias is the main thing. "
   ]
  },
  {
   "cell_type": "markdown",
   "id": "5994f0c5",
   "metadata": {},
   "source": [
    "## Exercise 5 - Comparing your code with sklearn"
   ]
  },
  {
   "cell_type": "markdown",
   "id": "8f595b7a",
   "metadata": {},
   "source": [
    "When implementing different algorithms for the first time, it can be helpful to double check your results with established implementations before you go on to add more complexity."
   ]
  },
  {
   "cell_type": "markdown",
   "id": "8ab310c1",
   "metadata": {},
   "source": [
    "**a)** Make sure your `polynomial_features` function creates the same feature matrix as sklearns PolynomialFeatures.\n",
    "\n",
    "(https://scikit-learn.org/stable/modules/generated/sklearn.preprocessing.PolynomialFeatures.html)"
   ]
  },
  {
   "cell_type": "code",
   "execution_count": 24,
   "id": "85b964d1",
   "metadata": {},
   "outputs": [
    {
     "name": "stdout",
     "output_type": "stream",
     "text": [
      "Custom Polynomial Features:\n",
      "[[ 1.00000000e+00 -3.00000000e+00  9.00000000e+00 -2.70000000e+01\n",
      "   8.10000000e+01 -2.43000000e+02]\n",
      " [ 1.00000000e+00 -2.33333333e+00  5.44444444e+00 -1.27037037e+01\n",
      "   2.96419753e+01 -6.91646091e+01]\n",
      " [ 1.00000000e+00 -1.66666667e+00  2.77777778e+00 -4.62962963e+00\n",
      "   7.71604938e+00 -1.28600823e+01]\n",
      " [ 1.00000000e+00 -1.00000000e+00  1.00000000e+00 -1.00000000e+00\n",
      "   1.00000000e+00 -1.00000000e+00]\n",
      " [ 1.00000000e+00 -3.33333333e-01  1.11111111e-01 -3.70370370e-02\n",
      "   1.23456790e-02 -4.11522634e-03]\n",
      " [ 1.00000000e+00  3.33333333e-01  1.11111111e-01  3.70370370e-02\n",
      "   1.23456790e-02  4.11522634e-03]\n",
      " [ 1.00000000e+00  1.00000000e+00  1.00000000e+00  1.00000000e+00\n",
      "   1.00000000e+00  1.00000000e+00]\n",
      " [ 1.00000000e+00  1.66666667e+00  2.77777778e+00  4.62962963e+00\n",
      "   7.71604938e+00  1.28600823e+01]\n",
      " [ 1.00000000e+00  2.33333333e+00  5.44444444e+00  1.27037037e+01\n",
      "   2.96419753e+01  6.91646091e+01]\n",
      " [ 1.00000000e+00  3.00000000e+00  9.00000000e+00  2.70000000e+01\n",
      "   8.10000000e+01  2.43000000e+02]]\n",
      "\n",
      "Sklearn Polynomial Features:\n",
      "[[ 1.00000000e+00 -3.00000000e+00  9.00000000e+00 -2.70000000e+01\n",
      "   8.10000000e+01 -2.43000000e+02]\n",
      " [ 1.00000000e+00 -2.33333333e+00  5.44444444e+00 -1.27037037e+01\n",
      "   2.96419753e+01 -6.91646091e+01]\n",
      " [ 1.00000000e+00 -1.66666667e+00  2.77777778e+00 -4.62962963e+00\n",
      "   7.71604938e+00 -1.28600823e+01]\n",
      " [ 1.00000000e+00 -1.00000000e+00  1.00000000e+00 -1.00000000e+00\n",
      "   1.00000000e+00 -1.00000000e+00]\n",
      " [ 1.00000000e+00 -3.33333333e-01  1.11111111e-01 -3.70370370e-02\n",
      "   1.23456790e-02 -4.11522634e-03]\n",
      " [ 1.00000000e+00  3.33333333e-01  1.11111111e-01  3.70370370e-02\n",
      "   1.23456790e-02  4.11522634e-03]\n",
      " [ 1.00000000e+00  1.00000000e+00  1.00000000e+00  1.00000000e+00\n",
      "   1.00000000e+00  1.00000000e+00]\n",
      " [ 1.00000000e+00  1.66666667e+00  2.77777778e+00  4.62962963e+00\n",
      "   7.71604938e+00  1.28600823e+01]\n",
      " [ 1.00000000e+00  2.33333333e+00  5.44444444e+00  1.27037037e+01\n",
      "   2.96419753e+01  6.91646091e+01]\n",
      " [ 1.00000000e+00  3.00000000e+00  9.00000000e+00  2.70000000e+01\n",
      "   8.10000000e+01  2.43000000e+02]]\n",
      "\n",
      "Do both feature matrices match? True\n"
     ]
    }
   ],
   "source": [
    "from sklearn.preprocessing import PolynomialFeatures\n",
    "\n",
    "# Example input data\n",
    "x = np.linspace(-3, 3, 10).reshape(-1, 1)  # Reshape for sklearn (n_samples, n_features)\n",
    "\n",
    "# Degree of the polynomial\n",
    "degree = 5\n",
    "\n",
    "# Create feature matrix using your custom function\n",
    "X_custom = polynomial_features(x.flatten(), degree)\n",
    "\n",
    "# Create feature matrix using sklearn's PolynomialFeatures\n",
    "poly = PolynomialFeatures(degree)\n",
    "X_sklearn = poly.fit_transform(x)\n",
    "\n",
    "# Compare the two matrices\n",
    "print(\"Custom Polynomial Features:\")\n",
    "print(X_custom)\n",
    "print(\"\\nSklearn Polynomial Features:\")\n",
    "print(X_sklearn)\n",
    "\n",
    "# Check if they are the same\n",
    "are_equal = np.allclose(X_custom, X_sklearn)\n",
    "print(\"\\nDo both feature matrices match?\", are_equal)"
   ]
  },
  {
   "cell_type": "markdown",
   "id": "73c32c52",
   "metadata": {},
   "source": [
    "**b)** Make sure your `OLS_parameters` function computes the same parameters as sklearns LinearRegression with fit_intercept set to False, since the intercept is included in the feature matrix. Use `your_model_object.coef_` to extract the computed parameters.\n",
    "\n",
    "(https://scikit-learn.org/stable/modules/generated/sklearn.linear_model.LinearRegression.html)"
   ]
  },
  {
   "cell_type": "code",
   "execution_count": null,
   "id": "35b04126",
   "metadata": {},
   "outputs": [
    {
     "ename": "ValueError",
     "evalue": "Found input variables with inconsistent numbers of samples: [10, 100]",
     "output_type": "error",
     "traceback": [
      "\u001b[0;31m---------------------------------------------------------------------------\u001b[0m",
      "\u001b[0;31mValueError\u001b[0m                                Traceback (most recent call last)",
      "Cell \u001b[0;32mIn[28], line 4\u001b[0m\n\u001b[1;32m      1\u001b[0m \u001b[38;5;28;01mfrom\u001b[39;00m\u001b[38;5;250m \u001b[39m\u001b[38;5;21;01msklearn\u001b[39;00m\u001b[38;5;21;01m.\u001b[39;00m\u001b[38;5;21;01mlinear_model\u001b[39;00m\u001b[38;5;250m \u001b[39m\u001b[38;5;28;01mimport\u001b[39;00m LinearRegression\n\u001b[1;32m      3\u001b[0m model \u001b[38;5;241m=\u001b[39m LinearRegression(fit_intercept\u001b[38;5;241m=\u001b[39m\u001b[38;5;28;01mFalse\u001b[39;00m)\n\u001b[0;32m----> 4\u001b[0m \u001b[43mmodel\u001b[49m\u001b[38;5;241;43m.\u001b[39;49m\u001b[43mfit\u001b[49m\u001b[43m(\u001b[49m\u001b[43mX_poly\u001b[49m\u001b[43m,\u001b[49m\u001b[43m \u001b[49m\u001b[43my\u001b[49m\u001b[43m)\u001b[49m\n\u001b[1;32m      7\u001b[0m beta_sklearn \u001b[38;5;241m=\u001b[39m model\u001b[38;5;241m.\u001b[39mcoef_\n\u001b[1;32m      9\u001b[0m \u001b[38;5;66;03m# Compare the two coefficient arrays\u001b[39;00m\n",
      "File \u001b[0;32m~/Documents/Master /FYS-STK3155/Yoan_FYS_STK4155/.venv/lib/python3.9/site-packages/sklearn/base.py:1389\u001b[0m, in \u001b[0;36m_fit_context.<locals>.decorator.<locals>.wrapper\u001b[0;34m(estimator, *args, **kwargs)\u001b[0m\n\u001b[1;32m   1382\u001b[0m     estimator\u001b[38;5;241m.\u001b[39m_validate_params()\n\u001b[1;32m   1384\u001b[0m \u001b[38;5;28;01mwith\u001b[39;00m config_context(\n\u001b[1;32m   1385\u001b[0m     skip_parameter_validation\u001b[38;5;241m=\u001b[39m(\n\u001b[1;32m   1386\u001b[0m         prefer_skip_nested_validation \u001b[38;5;129;01mor\u001b[39;00m global_skip_validation\n\u001b[1;32m   1387\u001b[0m     )\n\u001b[1;32m   1388\u001b[0m ):\n\u001b[0;32m-> 1389\u001b[0m     \u001b[38;5;28;01mreturn\u001b[39;00m \u001b[43mfit_method\u001b[49m\u001b[43m(\u001b[49m\u001b[43mestimator\u001b[49m\u001b[43m,\u001b[49m\u001b[43m \u001b[49m\u001b[38;5;241;43m*\u001b[39;49m\u001b[43margs\u001b[49m\u001b[43m,\u001b[49m\u001b[43m \u001b[49m\u001b[38;5;241;43m*\u001b[39;49m\u001b[38;5;241;43m*\u001b[39;49m\u001b[43mkwargs\u001b[49m\u001b[43m)\u001b[49m\n",
      "File \u001b[0;32m~/Documents/Master /FYS-STK3155/Yoan_FYS_STK4155/.venv/lib/python3.9/site-packages/sklearn/linear_model/_base.py:601\u001b[0m, in \u001b[0;36mLinearRegression.fit\u001b[0;34m(self, X, y, sample_weight)\u001b[0m\n\u001b[1;32m    597\u001b[0m n_jobs_ \u001b[38;5;241m=\u001b[39m \u001b[38;5;28mself\u001b[39m\u001b[38;5;241m.\u001b[39mn_jobs\n\u001b[1;32m    599\u001b[0m accept_sparse \u001b[38;5;241m=\u001b[39m \u001b[38;5;28;01mFalse\u001b[39;00m \u001b[38;5;28;01mif\u001b[39;00m \u001b[38;5;28mself\u001b[39m\u001b[38;5;241m.\u001b[39mpositive \u001b[38;5;28;01melse\u001b[39;00m [\u001b[38;5;124m\"\u001b[39m\u001b[38;5;124mcsr\u001b[39m\u001b[38;5;124m\"\u001b[39m, \u001b[38;5;124m\"\u001b[39m\u001b[38;5;124mcsc\u001b[39m\u001b[38;5;124m\"\u001b[39m, \u001b[38;5;124m\"\u001b[39m\u001b[38;5;124mcoo\u001b[39m\u001b[38;5;124m\"\u001b[39m]\n\u001b[0;32m--> 601\u001b[0m X, y \u001b[38;5;241m=\u001b[39m \u001b[43mvalidate_data\u001b[49m\u001b[43m(\u001b[49m\n\u001b[1;32m    602\u001b[0m \u001b[43m    \u001b[49m\u001b[38;5;28;43mself\u001b[39;49m\u001b[43m,\u001b[49m\n\u001b[1;32m    603\u001b[0m \u001b[43m    \u001b[49m\u001b[43mX\u001b[49m\u001b[43m,\u001b[49m\n\u001b[1;32m    604\u001b[0m \u001b[43m    \u001b[49m\u001b[43my\u001b[49m\u001b[43m,\u001b[49m\n\u001b[1;32m    605\u001b[0m \u001b[43m    \u001b[49m\u001b[43maccept_sparse\u001b[49m\u001b[38;5;241;43m=\u001b[39;49m\u001b[43maccept_sparse\u001b[49m\u001b[43m,\u001b[49m\n\u001b[1;32m    606\u001b[0m \u001b[43m    \u001b[49m\u001b[43my_numeric\u001b[49m\u001b[38;5;241;43m=\u001b[39;49m\u001b[38;5;28;43;01mTrue\u001b[39;49;00m\u001b[43m,\u001b[49m\n\u001b[1;32m    607\u001b[0m \u001b[43m    \u001b[49m\u001b[43mmulti_output\u001b[49m\u001b[38;5;241;43m=\u001b[39;49m\u001b[38;5;28;43;01mTrue\u001b[39;49;00m\u001b[43m,\u001b[49m\n\u001b[1;32m    608\u001b[0m \u001b[43m    \u001b[49m\u001b[43mforce_writeable\u001b[49m\u001b[38;5;241;43m=\u001b[39;49m\u001b[38;5;28;43;01mTrue\u001b[39;49;00m\u001b[43m,\u001b[49m\n\u001b[1;32m    609\u001b[0m \u001b[43m\u001b[49m\u001b[43m)\u001b[49m\n\u001b[1;32m    611\u001b[0m has_sw \u001b[38;5;241m=\u001b[39m sample_weight \u001b[38;5;129;01mis\u001b[39;00m \u001b[38;5;129;01mnot\u001b[39;00m \u001b[38;5;28;01mNone\u001b[39;00m\n\u001b[1;32m    612\u001b[0m \u001b[38;5;28;01mif\u001b[39;00m has_sw:\n",
      "File \u001b[0;32m~/Documents/Master /FYS-STK3155/Yoan_FYS_STK4155/.venv/lib/python3.9/site-packages/sklearn/utils/validation.py:2961\u001b[0m, in \u001b[0;36mvalidate_data\u001b[0;34m(_estimator, X, y, reset, validate_separately, skip_check_array, **check_params)\u001b[0m\n\u001b[1;32m   2959\u001b[0m         y \u001b[38;5;241m=\u001b[39m check_array(y, input_name\u001b[38;5;241m=\u001b[39m\u001b[38;5;124m\"\u001b[39m\u001b[38;5;124my\u001b[39m\u001b[38;5;124m\"\u001b[39m, \u001b[38;5;241m*\u001b[39m\u001b[38;5;241m*\u001b[39mcheck_y_params)\n\u001b[1;32m   2960\u001b[0m     \u001b[38;5;28;01melse\u001b[39;00m:\n\u001b[0;32m-> 2961\u001b[0m         X, y \u001b[38;5;241m=\u001b[39m \u001b[43mcheck_X_y\u001b[49m\u001b[43m(\u001b[49m\u001b[43mX\u001b[49m\u001b[43m,\u001b[49m\u001b[43m \u001b[49m\u001b[43my\u001b[49m\u001b[43m,\u001b[49m\u001b[43m \u001b[49m\u001b[38;5;241;43m*\u001b[39;49m\u001b[38;5;241;43m*\u001b[39;49m\u001b[43mcheck_params\u001b[49m\u001b[43m)\u001b[49m\n\u001b[1;32m   2962\u001b[0m     out \u001b[38;5;241m=\u001b[39m X, y\n\u001b[1;32m   2964\u001b[0m \u001b[38;5;28;01mif\u001b[39;00m \u001b[38;5;129;01mnot\u001b[39;00m no_val_X \u001b[38;5;129;01mand\u001b[39;00m check_params\u001b[38;5;241m.\u001b[39mget(\u001b[38;5;124m\"\u001b[39m\u001b[38;5;124mensure_2d\u001b[39m\u001b[38;5;124m\"\u001b[39m, \u001b[38;5;28;01mTrue\u001b[39;00m):\n",
      "File \u001b[0;32m~/Documents/Master /FYS-STK3155/Yoan_FYS_STK4155/.venv/lib/python3.9/site-packages/sklearn/utils/validation.py:1389\u001b[0m, in \u001b[0;36mcheck_X_y\u001b[0;34m(X, y, accept_sparse, accept_large_sparse, dtype, order, copy, force_writeable, force_all_finite, ensure_all_finite, ensure_2d, allow_nd, multi_output, ensure_min_samples, ensure_min_features, y_numeric, estimator)\u001b[0m\n\u001b[1;32m   1370\u001b[0m X \u001b[38;5;241m=\u001b[39m check_array(\n\u001b[1;32m   1371\u001b[0m     X,\n\u001b[1;32m   1372\u001b[0m     accept_sparse\u001b[38;5;241m=\u001b[39maccept_sparse,\n\u001b[0;32m   (...)\u001b[0m\n\u001b[1;32m   1384\u001b[0m     input_name\u001b[38;5;241m=\u001b[39m\u001b[38;5;124m\"\u001b[39m\u001b[38;5;124mX\u001b[39m\u001b[38;5;124m\"\u001b[39m,\n\u001b[1;32m   1385\u001b[0m )\n\u001b[1;32m   1387\u001b[0m y \u001b[38;5;241m=\u001b[39m _check_y(y, multi_output\u001b[38;5;241m=\u001b[39mmulti_output, y_numeric\u001b[38;5;241m=\u001b[39my_numeric, estimator\u001b[38;5;241m=\u001b[39mestimator)\n\u001b[0;32m-> 1389\u001b[0m \u001b[43mcheck_consistent_length\u001b[49m\u001b[43m(\u001b[49m\u001b[43mX\u001b[49m\u001b[43m,\u001b[49m\u001b[43m \u001b[49m\u001b[43my\u001b[49m\u001b[43m)\u001b[49m\n\u001b[1;32m   1391\u001b[0m \u001b[38;5;28;01mreturn\u001b[39;00m X, y\n",
      "File \u001b[0;32m~/Documents/Master /FYS-STK3155/Yoan_FYS_STK4155/.venv/lib/python3.9/site-packages/sklearn/utils/validation.py:475\u001b[0m, in \u001b[0;36mcheck_consistent_length\u001b[0;34m(*arrays)\u001b[0m\n\u001b[1;32m    473\u001b[0m uniques \u001b[38;5;241m=\u001b[39m np\u001b[38;5;241m.\u001b[39munique(lengths)\n\u001b[1;32m    474\u001b[0m \u001b[38;5;28;01mif\u001b[39;00m \u001b[38;5;28mlen\u001b[39m(uniques) \u001b[38;5;241m>\u001b[39m \u001b[38;5;241m1\u001b[39m:\n\u001b[0;32m--> 475\u001b[0m     \u001b[38;5;28;01mraise\u001b[39;00m \u001b[38;5;167;01mValueError\u001b[39;00m(\n\u001b[1;32m    476\u001b[0m         \u001b[38;5;124m\"\u001b[39m\u001b[38;5;124mFound input variables with inconsistent numbers of samples: \u001b[39m\u001b[38;5;132;01m%r\u001b[39;00m\u001b[38;5;124m\"\u001b[39m\n\u001b[1;32m    477\u001b[0m         \u001b[38;5;241m%\u001b[39m [\u001b[38;5;28mint\u001b[39m(l) \u001b[38;5;28;01mfor\u001b[39;00m l \u001b[38;5;129;01min\u001b[39;00m lengths]\n\u001b[1;32m    478\u001b[0m     )\n",
      "\u001b[0;31mValueError\u001b[0m: Found input variables with inconsistent numbers of samples: [10, 100]"
     ]
    }
   ],
   "source": [
    "from sklearn.linear_model import LinearRegression\n",
    "\n",
    "model = LinearRegression(fit_intercept=False)\n",
    "model.fit(X_poly, y)\n",
    "\n",
    "\n",
    "beta_sklearn = model.coef_\n",
    "\n",
    "# Compare the two coefficient arrays\n",
    "print(\"Custom OLS Parameters:\")\n",
    "print(beta_custom)\n",
    "print(\"\\nSklearn LinearRegression Parameters:\")\n",
    "print(beta_sklearn)\n",
    "\n",
    "# Check if they are the same\n",
    "are_equal = np.allclose(beta_custom, beta_sklearn)\n",
    "print(\"\\nDo both parameter arrays match?\", are_equal)\n",
    "\n",
    "#Get error that I did not manage to fix ..."
   ]
  }
 ],
 "metadata": {
  "kernelspec": {
   "display_name": ".venv",
   "language": "python",
   "name": "python3"
  },
  "language_info": {
   "codemirror_mode": {
    "name": "ipython",
    "version": 3
   },
   "file_extension": ".py",
   "mimetype": "text/x-python",
   "name": "python",
   "nbconvert_exporter": "python",
   "pygments_lexer": "ipython3",
   "version": "3.9.6"
  }
 },
 "nbformat": 4,
 "nbformat_minor": 5
}
