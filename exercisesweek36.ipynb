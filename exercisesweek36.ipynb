{
 "cells": [
  {
   "cell_type": "markdown",
   "id": "9dd8f8d0",
   "metadata": {},
   "source": [
    "# Exercises week 36\n",
    "\n",
    "## Deriving and Implementing Ridge Regression"
   ]
  },
  {
   "cell_type": "markdown",
   "id": "e5cc5739",
   "metadata": {},
   "source": [
    "## Learning goals\n",
    "\n",
    "After completing these exercises, you will know how to\n",
    "- Take more derivatives of simple products between vectors and matrices\n",
    "- Implement Ridge regression using the analytical expressions\n",
    "- Scale data appropriately for linear regression\n",
    "- Evaluate a model across two different hyperparameters"
   ]
  },
  {
   "cell_type": "markdown",
   "id": "427d9b9d",
   "metadata": {},
   "source": [
    "## Exercise 1 - Choice of model and degrees of freedom"
   ]
  },
  {
   "cell_type": "markdown",
   "id": "ff6ebdb5",
   "metadata": {},
   "source": [
    "**a)** How many degrees of freedom does an OLS model fit to the features $x, x^2, x^3$ and the intercept have?\n",
    "\n",
    "The degree of freedom is 3, k = 3.\n",
    "\n",
    "**b)** Why is it bad for a model to have too many degrees of freedom?\n",
    "\n",
    "It can cause the model to overfit and have high variance.\n",
    "\n",
    "**c)** Why is it bad for a model to have too few degrees of freedom?\n",
    "\n",
    "It can underfit due to not be able to capture underlying relationships in the data. In addition it can have bad generalization. \n",
    "\n",
    "**d)** Read [chapter 3.4.1 of Hastie et al.'s book](https://link.springer.com/book/10.1007/978-0-387-84858-7). What is the expression for the effective degrees of freedom of the ridge regression fit?\n",
    "\n",
    "$$\n",
    "H = X(X^TX + \\lambda I)^{-1}X^T\n",
    "$$\n",
    "\n",
    "**e)** Why might we want to use Ridge regression instead of OLS?\n",
    "Ridge has a regularization term which is useful in several cases, such as when variables are highly correlated, where OLS can lead to bad coefficient estimates. On the other hand, Ridge regression would reduce the impact of the correcation by stabilizing the estimates. Similarly, with overfitting and high dimensional data. \n",
    "\n",
    "\n",
    "**f)** Why migth we want to use OLS instead of Ridge regression?\n",
    "\n",
    "OLS is a simpler approach, it is a linear model which represents directly the relationship between the dependent and independent variables. \n"
   ]
  },
  {
   "cell_type": "markdown",
   "id": "a78b2ce2",
   "metadata": {},
   "source": [
    "## Exercise 2 - Deriving the expression for Ridge Regression\n",
    "\n",
    "The aim here is to derive the expression for the optimal parameters using Ridge regression.\n",
    "\n",
    "The expression for the standard Mean Squared Error (MSE) which we used to define our cost function and the equations for the ordinary least squares (OLS) method, was given by the optimization problem"
   ]
  },
  {
   "cell_type": "markdown",
   "id": "93a7ad16",
   "metadata": {},
   "source": [
    "$$\n",
    "{\\displaystyle \\min_{\\boldsymbol{\\beta}\\in {\\mathbb{R}}^{p}}}\\frac{1}{n}\\left\\{\\left(\\boldsymbol{y}-\\boldsymbol{X}\\boldsymbol{\\beta}\\right)^T\\left(\\boldsymbol{y}-\\boldsymbol{X}\\boldsymbol{\\beta}\\right)\\right\\}.\n",
    "$$"
   ]
  },
  {
   "cell_type": "markdown",
   "id": "6b182c01",
   "metadata": {},
   "source": [
    "By minimizing the above equation with respect to the parameters $\\boldsymbol{\\beta}$ we could then obtain an analytical expression for the parameters $\\boldsymbol{\\hat\\beta_{OLS}}$.\n",
    "\n",
    "We can add a regularization parameter $\\lambda$ by\n",
    "defining a new cost function to be optimized, that is"
   ]
  },
  {
   "cell_type": "markdown",
   "id": "fb065daf",
   "metadata": {},
   "source": [
    "$$\n",
    "{\\displaystyle \\min_{\\boldsymbol{\\beta}\\in\n",
    "{\\mathbb{R}}^{p}}}\\frac{1}{n}\\vert\\vert \\boldsymbol{y}-\\boldsymbol{X}\\boldsymbol{\\beta}\\vert\\vert_2^2+\\lambda\\vert\\vert \\boldsymbol{\\beta}\\vert\\vert_2^2\n",
    "$$"
   ]
  },
  {
   "cell_type": "markdown",
   "id": "89ae11e8",
   "metadata": {},
   "source": [
    "which leads to the Ridge regression minimization problem. (One can require as part of the optimization problem that $\\vert\\vert \\boldsymbol{\\beta}\\vert\\vert_2^2\\le t$, where $t$ is a finite number larger than zero. We will not implement that in this course.)"
   ]
  },
  {
   "cell_type": "markdown",
   "id": "456d58d4",
   "metadata": {},
   "source": [
    "### a) Expression for Ridge regression\n",
    "\n",
    "Show that the optimal parameters"
   ]
  },
  {
   "cell_type": "markdown",
   "id": "a5677efd",
   "metadata": {},
   "source": [
    "$$\n",
    "\\hat{\\boldsymbol{\\beta}}_{\\mathrm{Ridge}} = \\left(\\boldsymbol{X}^T\\boldsymbol{X}+\\lambda\\boldsymbol{I}\\right)^{-1}\\boldsymbol{X}^T\\boldsymbol{y},\n",
    "$$"
   ]
  },
  {
   "cell_type": "markdown",
   "id": "e7b08048",
   "metadata": {},
   "source": [
    "with $\\boldsymbol{I}$ being a $p\\times p$ identity matrix.\n",
    "\n",
    "The ordinary least squares result is"
   ]
  },
  {
   "cell_type": "markdown",
   "id": "8bb0e6af",
   "metadata": {},
   "source": [
    "$$\n",
    "\\hat{\\boldsymbol{\\beta}}_{\\mathrm{OLS}} = \\left(\\boldsymbol{X}^T\\boldsymbol{X}\\right)^{-1}\\boldsymbol{X}^T\\boldsymbol{y},\n",
    "$$"
   ]
  },
  {
   "cell_type": "markdown",
   "id": "ffa7a903",
   "metadata": {},
   "source": [
    "$$\n",
    "{\\displaystyle \n",
    "\\min_{\\boldsymbol{\\beta}\\in \\mathbb{R}^p}}\n",
    "\\;\\; \\frac{1}{2n}\\left(\\boldsymbol{y}-\\boldsymbol{X}\\boldsymbol{\\beta}\\right)^{T}\n",
    "\\left(\\boldsymbol{y}-\\boldsymbol{X}\\boldsymbol{\\beta}\\right)\n",
    "+ \\frac{\\lambda}{2}\\,\\boldsymbol{\\beta}^T \\boldsymbol{\\beta}.\n",
    "$$\n",
    "\n",
    "---\n",
    "\n",
    "### Expand the quadratic\n",
    "\n",
    "$$\n",
    "\\begin{aligned}\n",
    "\\mathcal{L}(\\boldsymbol{\\beta})\n",
    "&= \\frac{1}{2n}\\Big(\n",
    "\\boldsymbol{y}^T\\boldsymbol{y}\n",
    "-2\\,\\boldsymbol{y}^T\\boldsymbol{X}\\boldsymbol{\\beta}\n",
    "+\\boldsymbol{\\beta}^T\\boldsymbol{X}^T\\boldsymbol{X}\\boldsymbol{\\beta}\n",
    "\\Big)\n",
    "+ \\frac{\\lambda}{2}\\,\\boldsymbol{\\beta}^T \\boldsymbol{\\beta}.\n",
    "\\end{aligned}\n",
    "$$\n",
    "\n",
    "---\n",
    "\n",
    "### Gradient w.r.t. \\( \\beta \\)\n",
    "\n",
    "$$\n",
    "\\nabla_{\\beta}\\mathcal{L}(\\beta)\n",
    "= \\frac{1}{n}\\boldsymbol{X}^T\\boldsymbol{X}\\boldsymbol{\\beta}\n",
    "-\\frac{1}{n}\\boldsymbol{X}^T\\boldsymbol{y}\n",
    "+\\lambda \\boldsymbol{\\beta}.\n",
    "$$\n",
    "\n",
    "---\n",
    "\n",
    "### First-order optimality condition\n",
    "\n",
    "$$\n",
    "\\Big(\\tfrac{1}{n}\\boldsymbol{X}^T\\boldsymbol{X}+\\lambda \\boldsymbol{I}\\Big)\\hat{\\boldsymbol{\\beta}}\n",
    "= \\tfrac{1}{n}\\boldsymbol{X}^T\\boldsymbol{y}.\n",
    "$$\n",
    "\n",
    "Multiply both sides by \\(n\\):\n",
    "\n",
    "$$\n",
    "\\big(\\boldsymbol{X}^T\\boldsymbol{X}+n\\lambda \\boldsymbol{I}\\big)\\hat{\\boldsymbol{\\beta}}\n",
    "= \\boldsymbol{X}^T \\boldsymbol{y}.\n",
    "$$\n",
    "\n",
    "---\n",
    "\n",
    "### Ridge solution\n",
    "\n",
    "$$\n",
    "\\hat{\\boldsymbol{\\beta}}_{\\text{Ridge}}\n",
    "= \\big(\\boldsymbol{X}^T\\boldsymbol{X}+n\\lambda \\boldsymbol{I}\\big)^{-1}\\boldsymbol{X}^T\\boldsymbol{y}.\n",
    "$$"
   ]
  },
  {
   "cell_type": "markdown",
   "id": "2faaae78",
   "metadata": {},
   "source": [
    "## Exercise 3 - Scaling data"
   ]
  },
  {
   "cell_type": "code",
   "execution_count": 5,
   "id": "8ed79466",
   "metadata": {},
   "outputs": [],
   "source": [
    "import numpy as np\n",
    "import matplotlib.pyplot as plt\n",
    "from sklearn.model_selection import train_test_split\n",
    "from sklearn.preprocessing import StandardScaler"
   ]
  },
  {
   "cell_type": "code",
   "execution_count": 6,
   "id": "59d6f347",
   "metadata": {},
   "outputs": [],
   "source": [
    "n = 100\n",
    "x = np.linspace(-3, 3, n)\n",
    "y = np.exp(-x**2) + 1.5 * np.exp(-(x-2)**2) + np.random.normal(0, 0.1)"
   ]
  },
  {
   "cell_type": "markdown",
   "id": "c9fc9fe0",
   "metadata": {},
   "source": [
    "**a)** Adapt your function from last week to only include the intercept column if the boolean argument `intercept` is set to true."
   ]
  },
  {
   "cell_type": "code",
   "execution_count": 7,
   "id": "5aa9c86d",
   "metadata": {},
   "outputs": [],
   "source": [
    "def polynomial_features(x, p, intercept=True):\n",
    "    n = len(x)\n",
    "    # if intercept, we need p+1 columns, else just p\n",
    "    X = np.zeros((n, p + 1 if intercept else p))\n",
    "    \n",
    "    if intercept:\n",
    "        X[:, 0] = 1  # column of ones\n",
    "        for i in range(1, p + 1):\n",
    "            X[:, i] = x ** i\n",
    "    else:\n",
    "        for i in range(p):\n",
    "            X[:, i] = x ** (i + 1)\n",
    "    \n",
    "    return X\n"
   ]
  },
  {
   "cell_type": "code",
   "execution_count": 8,
   "id": "2ebf249a",
   "metadata": {},
   "outputs": [],
   "source": [
    "def polynomial_features(x, p, intercept=False):\n",
    "    n = len(x)\n",
    "    X = np.zeros((n, p))\n",
    "    X[:, 0] = x[:]\n",
    "    X[:, 1] = x**2\n",
    "    X[:, 2] = x**3\n",
    "    return X"
   ]
  },
  {
   "cell_type": "markdown",
   "id": "c5924634",
   "metadata": {},
   "source": [
    "**b)** Split your data into training and test data(80/20 split)"
   ]
  },
  {
   "cell_type": "code",
   "execution_count": 9,
   "id": "676541e7",
   "metadata": {},
   "outputs": [],
   "source": [
    "X = polynomial_features(x, 3)"
   ]
  },
  {
   "cell_type": "code",
   "execution_count": 10,
   "id": "f895606f",
   "metadata": {},
   "outputs": [],
   "source": [
    "X_train, X_test, y_train, y_test = train_test_split(X, y, test_size=0.2)\n",
    "x_train = X_train[:, 0] # These are used for plotting\n",
    "x_test = X_test[:, 0] # These are used for plotting"
   ]
  },
  {
   "cell_type": "markdown",
   "id": "a58f05ad",
   "metadata": {},
   "source": [
    "**c)** Scale your design matrix with the sklearn standard scaler, though based on the mean and standard deviation of the training data only."
   ]
  },
  {
   "cell_type": "code",
   "execution_count": 12,
   "id": "0c07995a",
   "metadata": {},
   "outputs": [],
   "source": [
    "scaler = StandardScaler()\n",
    "scaler.fit(X_train)\n",
    "X_train_s = scaler.transform(X_train)\n",
    "X_test_s = scaler.transform(X_test)\n",
    "y_offset = np.mean(y_train)"
   ]
  },
  {
   "cell_type": "markdown",
   "id": "63b86003",
   "metadata": {},
   "source": [
    "## Exercise 4 - Implementing Ridge Regression"
   ]
  },
  {
   "cell_type": "markdown",
   "id": "a2f52ef2",
   "metadata": {},
   "source": [
    "**a)** Implement a function for computing the optimal Ridge parameters using the expression from **2a)**."
   ]
  },
  {
   "cell_type": "code",
   "execution_count": 13,
   "id": "69f19bde",
   "metadata": {},
   "outputs": [
    {
     "name": "stdout",
     "output_type": "stream",
     "text": [
      "Ridge regression coefficients: [ 0.84198043 -0.13481634 -0.42057073]\n"
     ]
    }
   ],
   "source": [
    "def Ridge_parameters(X, y, lambda_):\n",
    "\n",
    "    I = np.eye(X.shape[1])  # Identity matrix of size (n_features, n_features)\n",
    "    \n",
    "    # Ridge formula\n",
    "    beta_ridge = np.linalg.inv(X.T @ X + lambda_ * I) @ (X.T @ y)\n",
    "    \n",
    "    return beta_ridge\n",
    "\n",
    "lambda_ = 0.1  # Regularization parameter\n",
    "beta = Ridge_parameters(X_train_s, y_train, lambda_)\n",
    "\n",
    "print(\"Ridge regression coefficients:\", beta)\n"
   ]
  },
  {
   "cell_type": "markdown",
   "id": "626c81ba",
   "metadata": {},
   "source": [
    "**b)** Fit a model to the data, and plot the prediction using both the training and test x-values extracted before scaling, and the y_offset."
   ]
  },
  {
   "cell_type": "code",
   "execution_count": null,
   "id": "f9ba0655",
   "metadata": {},
   "outputs": [
    {
     "data": {
      "text/plain": [
       "<matplotlib.collections.PathCollection at 0x11bcf52e0>"
      ]
     },
     "execution_count": 16,
     "metadata": {},
     "output_type": "execute_result"
    },
    {
     "data": {
      "image/png": "[encoded data removed]",
      "text/plain": [
       "<Figure size 640x480 with 1 Axes>"
      ]
     },
     "metadata": {},
     "output_type": "display_data"
    }
   ],
   "source": [
    "x_train_original = x_train  \n",
    "x_test_original = x_test \n",
    "\n",
    "plt.plot(x, y)\n",
    "plt.scatter(x_train, X_train_s @ beta + y_offset)\n",
    "plt.scatter(x_test, X_test_s @ beta + y_offset)\n",
    "   \n"
   ]
  },
  {
   "cell_type": "markdown",
   "id": "2993cfae",
   "metadata": {},
   "source": [
    "## Exercise 4 - Testing multiple hyperparameters"
   ]
  },
  {
   "cell_type": "markdown",
   "id": "e6cdc89a",
   "metadata": {},
   "source": [
    "**a)** Compute the MSE of your ridge model for polynomials of degrees 1 to 5 with lambda set to 0.01. Plot the MSE as a function of polynomial degree.\n",
    "\n",
    "**b)** Compute the MSE of your ridge model for a polynomial with degree 3, and with lambdas from $10^{-1}$ to $10^{-5}$ on a logarithmic scale. Plot the MSE as a function of lambda.\n",
    "\n",
    "**c)** Compute the MSE of your ridge model for polynomials of degrees 1 to 5, and with lambdas from $10^{-1}$ to $10^{-5}$ on a logarithmic scale. Plot the MSE as a function of polynomial degree and lambda using a [heatmap](https://matplotlib.org/stable/gallery/images_contours_and_fields/image_annotated_heatmap.html)."
   ]
  },
  {
   "cell_type": "code",
   "execution_count": null,
   "id": "c8585cb6",
   "metadata": {},
   "outputs": [
    {
     "data": {
      "image/png": "[encoded data removed]",
      "text/plain": [
       "<Figure size 640x480 with 1 Axes>"
      ]
     },
     "metadata": {},
     "output_type": "display_data"
    }
   ],
   "source": [
    "# Task 4a)\n",
    "from sklearn.preprocessing import PolynomialFeatures, StandardScaler\n",
    "from sklearn.metrics import mean_squared_error\n",
    "\n",
    "x = np.linspace(0, 10, 100)\n",
    "y = 2 * (x ** 3) - 6 * (x ** 2) + np.random.normal(0, 5, size=x.shape)  \n",
    "\n",
    "\n",
    "mse_train = []\n",
    "mse_test = []\n",
    "\n",
    "lambda_ = 0.01\n",
    "\n",
    "# Loop over polynomial degrees from 1 to 5\n",
    "for degree in range(1, 6):\n",
    "\n",
    "    poly = PolynomialFeatures(degree=degree)\n",
    "    X = poly.fit_transform(x.reshape(-1, 1))  \n",
    "\n",
    "    X_train, X_test, y_train, y_test = train_test_split(X, y, test_size=0.2, random_state=42)\n",
    "\n",
    "    # Scale the feature design matrix using StandardScaler\n",
    "    scaler = StandardScaler()\n",
    "    scaler.fit(X_train)\n",
    "    X_train_s = scaler.transform(X_train)  # Transform training data\n",
    "    X_test_s = scaler.transform(X_test)      # Transform test data\n",
    "\n",
    "\n",
    "    def Ridge_parameters(X, y, lambda_):\n",
    "        I = np.eye(X.shape[1])  # Create identity matrix\n",
    "        beta_ridge = np.linalg.inv(X.T @ X + lambda_ * I) @ (X.T @ y)  \n",
    "        return beta_ridge\n",
    "\n",
    "    # Fit the Ridge model\n",
    "    beta = Ridge_parameters(X_train_s, y_train, lambda_)\n",
    "\n",
    "\n",
    "    y_train_pred = X_train_s @ beta\n",
    "    y_test_pred = X_test_s @ beta\n",
    "\n",
    "    # Compute the MSE for training and testing sets\n",
    "    mse_train.append(mean_squared_error(y_train, y_train_pred))\n",
    "    mse_test.append(mean_squared_error(y_test, y_test_pred))\n",
    "\n",
    "plt.plot(range(1, 6), mse_train, marker='o', label='Training MSE', color='blue')\n",
    "plt.plot(range(1, 6), mse_test, marker='o', label='Testing MSE', color='orange')\n",
    "plt.xlabel('Polynomial Degree')\n",
    "plt.ylabel('Mean Squared Error (MSE)')\n",
    "plt.xticks(range(1, 6))\n",
    "plt.legend()\n",
    "plt.grid()\n",
    "plt.show()\n",
    "\n"
   ]
  },
  {
   "cell_type": "code",
   "execution_count": null,
   "id": "07f59cef",
   "metadata": {},
   "outputs": [],
   "source": [
    "# Task 4 b)\n",
    "degree = 3\n",
    "poly = PolynomialFeatures(degree=degree)\n",
    "X = poly.fit_transform(x.reshape(-1, 1))  \n",
    "\n",
    "X_train, X_test, y_train, y_test = train_test_split(X, y, test_size=0.2, random_state=42)\n",
    "\n",
    "\n",
    "scaler = StandardScaler()\n",
    "scaler.fit(X_train)\n",
    "X_train_s = scaler.transform(X_train)  \n",
    "X_test_s = scaler.transform(X_test)   \n",
    "\n",
    "lambda_values = np.logspace(-1, -5, num=5)  \n",
    "\n",
    "mse_train = []\n",
    "mse_test = []\n",
    "\n",
    "\n",
    "for lambda_ in lambda_values:\n",
    "    beta = Ridge_parameters(X_train_s, y_train, lambda_)\n",
    "\n",
    "    y_train_pred = X_train_s @ beta\n",
    "    y_test_pred = X_test_s @ beta\n",
    "\n",
    "    mse_train.append(mean_squared_error(y_train, y_train_pred))\n",
    "    mse_test.append(mean_squared_error(y_test, y_test_pred))\n",
    "\n",
    "\n",
    "plt.plot(lambda_values, mse_train, marker='o', label='Training MSE', color='blue')\n",
    "plt.plot(lambda_values, mse_test, marker='o', label='Testing MSE', color='orange')\n",
    "plt.xscale('log')  \n",
    "plt.xlabel('Lambda (Log Scale)')\n",
    "plt.ylabel('Mean Squared Error (MSE)')\n",
    "plt.legend()\n",
    "plt.grid()\n",
    "plt.show()\n"
   ]
  },
  {
   "cell_type": "code",
   "execution_count": 23,
   "id": "f805323d",
   "metadata": {},
   "outputs": [
    {
     "data": {
      "image/png": "[encoded data removed]",
      "text/plain": [
       "<Figure size 640x480 with 2 Axes>"
      ]
     },
     "metadata": {},
     "output_type": "display_data"
    }
   ],
   "source": [
    "# Task 4 c)\n",
    "\n",
    "lambda_values = np.logspace(-1, -5, num=5) \n",
    "degrees = [1, 2, 3, 4, 5]\n",
    "\n",
    "mse_results = np.zeros((len(degrees), len(lambda_values)))\n",
    "\n",
    "for i, degree in enumerate(degrees):\n",
    "    poly = PolynomialFeatures(degree=degree)\n",
    "    X = poly.fit_transform(x.reshape(-1, 1))  \n",
    "\n",
    "    X_train, X_test, y_train, y_test = train_test_split(X, y, test_size=0.2, random_state=42)\n",
    "\n",
    "    scaler = StandardScaler()\n",
    "    scaler.fit(X_train)\n",
    "    X_train_s = scaler.transform(X_train)\n",
    "    X_test_s = scaler.transform(X_test)\n",
    "\n",
    "    for j, lambda_ in enumerate(lambda_values):\n",
    "        beta = Ridge_parameters(X_train_s, y_train, lambda_) \n",
    "        y_test_pred = X_test_s @ beta\n",
    "\n",
    "        mse_results[i, j] = mean_squared_error(y_test, y_test_pred)\n",
    "\n",
    "\n",
    "plt.imshow(mse_results, extent=[lambda_values[0], lambda_values[-1], degrees[-1], degrees[0]], aspect='auto', cmap='viridis')\n",
    "plt.colorbar(label='Mean Squared Error (MSE)')\n",
    "plt.xlabel('Lambda (Log Scale)')\n",
    "plt.ylabel('Polynomial Degree')\n",
    "plt.xscale('log') \n",
    "plt.xticks(lambda_values, [f'{l:.0e}' for l in lambda_values]) \n",
    "plt.yticks(degrees)\n",
    "plt.grid(False)\n",
    "plt.show()\n"
   ]
  }
 ],
 "metadata": {
  "kernelspec": {
   "display_name": ".venv",
   "language": "python",
   "name": "python3"
  },
  "language_info": {
   "codemirror_mode": {
    "name": "ipython",
    "version": 3
   },
   "file_extension": ".py",
   "mimetype": "text/x-python",
   "name": "python",
   "nbconvert_exporter": "python",
   "pygments_lexer": "ipython3",
   "version": "3.9.6"
  }
 },
 "nbformat": 4,
 "nbformat_minor": 5
}
