{
 "cells": [
  {
   "cell_type": "markdown",
   "id": "8e6632a0",
   "metadata": {
    "editable": true
   },
   "source": [
    "<!-- HTML file automatically generated from DocOnce source (https://github.com/doconce/doconce/)\n",
    "doconce format html exercisesweek37.do.txt  -->\n",
    "<!-- dom:TITLE: Exercises week 37 -->"
   ]
  },
  {
   "cell_type": "markdown",
   "id": "82705c4f",
   "metadata": {
    "editable": true
   },
   "source": [
    "# Exercises week 37\n",
    "**Implementing gradient descent for Ridge and ordinary Least Squares Regression**\n",
    "\n",
    "Date: **September 8-12, 2025**"
   ]
  },
  {
   "cell_type": "markdown",
   "id": "921bf331",
   "metadata": {
    "editable": true
   },
   "source": [
    "## Learning goals\n",
    "\n",
    "After having completed these exercises you will have:\n",
    "1. Your own code for the implementation of the simplest gradient descent approach applied to ordinary least squares (OLS) and Ridge regression\n",
    "\n",
    "2. Be able to compare the analytical expressions for OLS and Ridge regression with the gradient descent approach\n",
    "\n",
    "3. Explore the role of the learning rate in the gradient descent approach and the hyperparameter $\\lambda$ in Ridge regression\n",
    "\n",
    "4. Scale the data properly"
   ]
  },
  {
   "cell_type": "markdown",
   "id": "adff65d5",
   "metadata": {
    "editable": true
   },
   "source": [
    "## Simple one-dimensional second-order polynomial\n",
    "\n",
    "We start with a very simple function"
   ]
  },
  {
   "cell_type": "markdown",
   "id": "70418b3d",
   "metadata": {
    "editable": true
   },
   "source": [
    "$$\n",
    "f(x)= 2-x+5x^2,\n",
    "$$"
   ]
  },
  {
   "cell_type": "markdown",
   "id": "11a3cf73",
   "metadata": {
    "editable": true
   },
   "source": [
    "defined for $x\\in [-2,2]$. You can add noise if you wish. \n",
    "\n",
    "We are going to fit this function with a polynomial ansatz. The easiest thing is to set up a second-order polynomial and see if you can fit the above function.\n",
    "Feel free to play around with higher-order polynomials."
   ]
  },
  {
   "cell_type": "markdown",
   "id": "04a06b51",
   "metadata": {
    "editable": true
   },
   "source": [
    "## Exercise 1, scale your data\n",
    "\n",
    "Before fitting a regression model, it is good practice to normalize or\n",
    "standardize the features. This ensures all features are on a\n",
    "comparable scale, which is especially important when using\n",
    "regularization. Here we will perform standardization, scaling each\n",
    "feature to have mean 0 and standard deviation 1."
   ]
  },
  {
   "cell_type": "markdown",
   "id": "408db3d9",
   "metadata": {
    "editable": true
   },
   "source": [
    "### 1a)\n",
    "\n",
    "Compute the mean and standard deviation of each column (feature) in your design/feature matrix $\\boldsymbol{X}$.\n",
    "Subtract the mean and divide by the standard deviation for each feature.\n",
    "\n",
    "We will also center the target $\\boldsymbol{y}$ to mean $0$. Centering $\\boldsymbol{y}$\n",
    "(and each feature) means the model does not require a separate intercept\n",
    "term, the data is shifted such that the intercept is effectively 0\n",
    ". (In practice, one could include an intercept in the model and not\n",
    "penalize it, but here we simplify by centering.)\n",
    "Choose $n=100$ data points and set up $\\boldsymbol{x}$, $\\boldsymbol{y}$ and the design matrix,    $\\boldsymbol{X}$."
   ]
  },
  {
   "cell_type": "code",
   "execution_count": 52,
   "id": "37fb732c",
   "metadata": {
    "collapsed": false,
    "editable": true
   },
   "outputs": [
    {
     "name": "stdout",
     "output_type": "stream",
     "text": [
      "(10, 3)\n",
      "[[-2.          4.         -8.        ]\n",
      " [-1.55555556  2.41975309 -3.76406036]\n",
      " [-1.11111111  1.2345679  -1.37174211]\n",
      " [-0.66666667  0.44444444 -0.2962963 ]\n",
      " [-0.22222222  0.04938272 -0.01097394]\n",
      " [ 0.22222222  0.04938272  0.01097394]\n",
      " [ 0.66666667  0.44444444  0.2962963 ]\n",
      " [ 1.11111111  1.2345679   1.37174211]\n",
      " [ 1.55555556  2.41975309  3.76406036]\n",
      " [ 2.          4.          8.        ]]\n",
      "[[-1.5666989   1.65144565 -1.99828049]\n",
      " [-1.21854359  0.55048188 -0.94020604]\n",
      " [-0.87038828 -0.27524094 -0.34264069]\n",
      " [-0.52223297 -0.82572282 -0.07401039]\n",
      " [-0.17407766 -1.10096377 -0.00274113]\n",
      " [ 0.17407766 -1.10096377  0.00274113]\n",
      " [ 0.52223297 -0.82572282  0.07401039]\n",
      " [ 0.87038828 -0.27524094  0.34264069]\n",
      " [ 1.21854359  0.55048188  0.94020604]\n",
      " [ 1.5666989   1.65144565  1.99828049]]\n",
      "[24.         15.65432099  9.28395062  4.88888889  2.4691358   2.02469136\n",
      "  3.55555556  7.0617284  12.54320988 20.        ]\n",
      "[13.85185185  5.50617284 -0.86419753 -5.25925926 -7.67901235 -8.12345679\n",
      " -6.59259259 -3.08641975  2.39506173  9.85185185]\n"
     ]
    }
   ],
   "source": [
    "import numpy as np \n",
    "\n",
    "n = 10\n",
    "x = np.linspace (-2,2, n)\n",
    "y = 2 - x + 5*x**2\n",
    "\n",
    "noise = np.random.normal(0,1,n)\n",
    "y_noisy = y + 0.1 * noise\n",
    "\n",
    "X = np.zeros((n,3)) \n",
    "print(X.shape)\n",
    "for i in range(0,3):\n",
    "    X[:,i] = x**(i+1)\n",
    "\n",
    "print(X)\n",
    "\n",
    "# Standardize features (zero mean, unit variance for each feature)\n",
    "X_mean = X.mean(axis=0)\n",
    "X_std = X.std(axis=0)\n",
    "X_std[X_std == 0] = 1  # safeguard to avoid division by zero for constant features\n",
    "X_norm = (X - X_mean) / X_std\n",
    "\n",
    "# Center the target to zero mean (optional, to simplify intercept handling)\n",
    "y_mean = np.mean(y, axis=0)   \n",
    "y_centered = y - y_mean\n",
    "print(X_norm)\n",
    "print(y)\n",
    "print(y_centered)"
   ]
  },
  {
   "cell_type": "markdown",
   "id": "d861e1e3",
   "metadata": {
    "editable": true
   },
   "source": [
    "Fill in the necessary details. Do we need to center the $y$-values? \n",
    "It looks like they get better centered around 0 but maybe not very big differnce in this case. \n",
    "\n",
    "After this preprocessing, each column of $\\boldsymbol{X}_{\\mathrm{norm}}$ has mean zero and standard deviation $1$\n",
    "and $\\boldsymbol{y}_{\\mathrm{centered}}$ has mean 0. This makes the optimization landscape\n",
    "nicer and ensures the regularization penalty $\\lambda \\sum_j\n",
    "\\theta_j^2$ in Ridge regression treats each coefficient fairly (since features are on the\n",
    "same scale)."
   ]
  },
  {
   "cell_type": "markdown",
   "id": "b3e774d0",
   "metadata": {
    "editable": true
   },
   "source": [
    "## Exercise 2, calculate the gradients\n",
    "\n",
    "Find the gradients for OLS and Ridge regression using the mean-squared error as cost/loss function.\n",
    "\n",
    "The derivative for OLS is simply done by taking the cost function and diferentiate w.r.t. $\\theta$: $\\frac{2}{n}X^T(X\\theta - \\mathbf{y})$ \n",
    "\n",
    "The derivative for Rigde is done the same way but here we have the additional parameter lamda: $2 (\\frac{1}{n}X^T(X\\theta - \\mathbf{y})+\\lambda \\theta)$"
   ]
  },
  {
   "cell_type": "markdown",
   "id": "d5dc7708",
   "metadata": {
    "editable": true
   },
   "source": [
    "## Exercise 3, using the analytical formulae for OLS and Ridge regression to find the optimal paramters $\\boldsymbol{\\theta}$"
   ]
  },
  {
   "cell_type": "code",
   "execution_count": 53,
   "id": "4c9c86ac",
   "metadata": {
    "collapsed": false,
    "editable": true
   },
   "outputs": [
    {
     "name": "stdout",
     "output_type": "stream",
     "text": [
      "Closed-form Ridge coefficients: [-0.96046205  5.67908378 -0.0116262 ]\n",
      "Closed-form OLS coefficients: [-1.00000000e+00  5.69112628e+00  1.11022302e-15]\n"
     ]
    }
   ],
   "source": [
    "# Set regularization parameter, either a single value or a vector of values\n",
    "# Note that lambda is a python keyword. The lambda keyword is used to create small, single-expression functions without a formal name. These are often called \"anonymous functions\" or \"lambda functions.\"\n",
    "lam = 0.1 #10 #0.001 #0.0001\n",
    "n_features = 2\n",
    "\n",
    "# Analytical form for OLS and Ridge solution: theta_Ridge = (X^T X + lambda * I)^{-1} X^T y and theta_OLS = (X^T X)^{-1} X^T y\n",
    "I = np.eye(n_features)\n",
    "def Ridge_parameters(X, y,lam):\n",
    "\n",
    "    I = np.eye(X.shape[1])  # Identity matrix of size (n_features, n_features)\n",
    "    \n",
    "    # Ridge formula\n",
    "    beta_ridge = np.linalg.inv(X.T @ X + lam * I) @ (X.T @ y)\n",
    "    \n",
    "    return beta_ridge\n",
    "\n",
    "\n",
    "\n",
    "def OLS_parameters(X, y):\n",
    "    beta_OLS = np.linalg.inv(X.T @ X) @ X.T @ y\n",
    "    return beta_OLS\n",
    "\n",
    "\n",
    "beta = OLS_parameters(X,y)\n",
    "\n",
    "theta_closed_formRidge = Ridge_parameters(X,y,lam)\n",
    "theta_closed_formOLS = OLS_parameters(X,y)\n",
    "\n",
    "print(\"Closed-form Ridge coefficients:\", theta_closed_formRidge)\n",
    "print(\"Closed-form OLS coefficients:\", theta_closed_formOLS)"
   ]
  },
  {
   "cell_type": "markdown",
   "id": "eeae00fd",
   "metadata": {
    "editable": true
   },
   "source": [
    "This computes the Ridge and OLS regression coefficients directly. The identity\n",
    "matrix $I$ has the same size as $X^T X$. It adds $\\lambda$ to the diagonal of $X^T X$ for Ridge regression. We\n",
    "then invert this matrix and multiply by $X^T y$. The result\n",
    "for $\\boldsymbol{\\theta}$  is a NumPy array of shape (n$\\_$features,) containing the\n",
    "fitted parameters $\\boldsymbol{\\theta}$."
   ]
  },
  {
   "cell_type": "markdown",
   "id": "e1c215d5",
   "metadata": {
    "editable": true
   },
   "source": [
    "### 3a)\n",
    "\n",
    "Finalize, in the above code, the OLS and Ridge regression determination of the optimal parameters $\\boldsymbol{\\theta}$."
   ]
  },
  {
   "cell_type": "markdown",
   "id": "587dd3dc",
   "metadata": {
    "editable": true
   },
   "source": [
    "### 3b)\n",
    "\n",
    "Explore the results as function of different values of the hyperparameter $\\lambda$. See for example exercise 4 from week 36."
   ]
  },
  {
   "cell_type": "markdown",
   "id": "bfa34697",
   "metadata": {
    "editable": true
   },
   "source": [
    "## Exercise 4, Implementing the simplest form for gradient descent\n",
    "\n",
    "Alternatively, we can fit the ridge regression model using gradient\n",
    "descent. This is useful to visualize the iterative convergence and is\n",
    "necessary if $n$ and $p$ are so large that the closed-form might be\n",
    "too slow or memory-intensive. We derive the gradients from the cost\n",
    "functions defined above. Use the gradients of the Ridge and OLS cost functions with respect to\n",
    "the parameters  $\\boldsymbol{\\theta}$ and set up (using the template below) your own gradient descent code for OLS and Ridge regression.\n",
    "\n",
    "Below is a template code for gradient descent implementation of ridge:"
   ]
  },
  {
   "cell_type": "code",
   "execution_count": 54,
   "id": "49245f55",
   "metadata": {
    "collapsed": false,
    "editable": true
   },
   "outputs": [
    {
     "name": "stdout",
     "output_type": "stream",
     "text": [
      "[24.         15.65432099  9.28395062  4.88888889  2.4691358   2.02469136\n",
      "  3.55555556  7.0617284  12.54320988 20.        ]\n",
      "[[-2.          4.         -8.        ]\n",
      " [-1.55555556  2.41975309 -3.76406036]\n",
      " [-1.11111111  1.2345679  -1.37174211]\n",
      " [-0.66666667  0.44444444 -0.2962963 ]\n",
      " [-0.22222222  0.04938272 -0.01097394]\n",
      " [ 0.22222222  0.04938272  0.01097394]\n",
      " [ 0.66666667  0.44444444  0.2962963 ]\n",
      " [ 1.11111111  1.2345679   1.37174211]\n",
      " [ 1.55555556  2.41975309  3.76406036]\n",
      " [ 2.          4.          8.        ]]\n",
      "Gradient Descent OLS coefficients: [-0.11937933  3.48495441 -0.25417965]\n",
      "Gradient Descent Ridge coefficients: [-0.11858399  3.45577595 -0.25293918]\n"
     ]
    }
   ],
   "source": [
    "# Gradient descent parameters, learning rate eta first\n",
    "eta = 0.001\n",
    "# Then number of iterations\n",
    "num_iters = 100\n",
    "# Initialize weights for gradient descent\n",
    "theta = np.zeros(n_features)\n",
    "\n",
    "n_samples, n_features = X.shape\n",
    "\n",
    "theta_gdOLS = np.zeros(n_features)\n",
    "theta_gdRidge = np.zeros(n_features)\n",
    "\n",
    "print(y)\n",
    "print(X)\n",
    "\n",
    "\n",
    "def ols_gradient(X, y, theta):\n",
    "    grad_o = (2/n) * X.T @ (X @ theta - y)\n",
    "    return grad_o\n",
    "\n",
    "def ridge_gradient(X, y, theta, lam):\n",
    "    grad_r = 2 * ((1/n) * (X.T @ (X @ theta - y)) + lam * theta)\n",
    "    return grad_r\n",
    "\n",
    "# Gradient descent loop\n",
    "for t in range(num_iters):\n",
    "    # Compute gradients for OSL and Ridge\n",
    "    grad_OLS = ols_gradient(X, y, theta_gdOLS)\n",
    "    grad_Ridge = ridge_gradient(X,y,theta_gdRidge,lam)\n",
    "    # Update parameters theta)\n",
    "    theta_gdOLS = theta_gdOLS - eta * grad_OLS\n",
    "    theta_gdRidge = theta_gdRidge - eta * grad_Ridge\n",
    "\n",
    "\n",
    "# After the loop, theta contains the fitted coefficients\n",
    "#theta_gdOLS = ?\n",
    "#theta_gdRidge = ?\n",
    "print(\"Gradient Descent OLS coefficients:\", theta_gdOLS)\n",
    "print(\"Gradient Descent Ridge coefficients:\", theta_gdRidge)"
   ]
  },
  {
   "cell_type": "markdown",
   "id": "f3f43f2c",
   "metadata": {
    "editable": true
   },
   "source": [
    "### 4a)\n",
    "\n",
    "Write first a gradient descent code for OLS only using the above template.\n",
    "Discuss the results as function of the learning rate parameters and the number of iterations"
   ]
  },
  {
   "cell_type": "markdown",
   "id": "9ba303be",
   "metadata": {
    "editable": true
   },
   "source": [
    "### 4b)\n",
    "\n",
    "Write then a similar code for Ridge regression using the above template.\n",
    "Try to add a stopping parameter as function of the number iterations and the difference between the new and old $\\theta$ values. How would you define a stopping criterion?"
   ]
  },
  {
   "cell_type": "code",
   "execution_count": 55,
   "id": "249d460b",
   "metadata": {},
   "outputs": [],
   "source": [
    "tol = 1e-6\n",
    "for t in range(num_iters):\n",
    "    grad_OLS = ols_gradient(X, y, theta_gdOLS)\n",
    "    new_theta = theta_gdOLS - eta * grad_OLS\n",
    "    \n",
    "    if np.linalg.norm(new_theta - theta_gdOLS) < tol:\n",
    "        print(f\"Converged after {t} iterations\")\n",
    "        break\n",
    "    \n",
    "    theta_gdOLS = new_theta"
   ]
  },
  {
   "cell_type": "markdown",
   "id": "78362c6c",
   "metadata": {
    "editable": true
   },
   "source": [
    "## Exercise 5, Ridge regression and a new Synthetic Dataset\n",
    "\n",
    "We create a synthetic linear regression dataset with a sparse\n",
    "underlying relationship. This means we have many features but only a\n",
    "few of them actually contribute to the target. In our example, we’ll\n",
    "use 10 features with only 3 non-zero weights in the true model. This\n",
    "way, the target is generated as a linear combination of a few features\n",
    "(with known coefficients) plus some random noise. The steps we include are:\n",
    "\n",
    "Decide on the number of samples and features (e.g. 100 samples, 10 features).\n",
    "Define the **true** coefficient vector with mostly zeros (for sparsity). For example, we set $\\hat{\\boldsymbol{\\theta}} = [5.0, -3.0, 0.0, 0.0, 0.0, 0.0, 2.0, 0.0, 0.0, 0.0]$, meaning only features 0, 1, and 6 have a real effect on y.\n",
    "\n",
    "Then we sample feature values for $\\boldsymbol{X}$ randomly (e.g. from a normal distribution). We use a normal distribution so features are roughly centered around 0.\n",
    "Then we compute the target values $y$ using the linear combination $\\boldsymbol{X}\\hat{\\boldsymbol{\\theta}}$ and add some noise (to simulate measurement error or unexplained variance).\n",
    "\n",
    "Below is the code to generate the dataset:"
   ]
  },
  {
   "cell_type": "code",
   "execution_count": 61,
   "id": "8be1cebe",
   "metadata": {
    "collapsed": false,
    "editable": true
   },
   "outputs": [
    {
     "name": "stdout",
     "output_type": "stream",
     "text": [
      "True coefficients:        [ 5. -3.  0.  0.  0.  0.  2.  0.  0.  0.]\n",
      "OLS closed form:          [ 5.01 -3.   -0.02  0.14 -0.07 -0.04  2.06  0.    0.04 -0.05]\n",
      "OLS gradient descent:     [ 5.01 -3.   -0.02  0.14 -0.07 -0.04  2.06  0.    0.04 -0.05]\n",
      "Ridge closed form (λ=1):  [ 4.96 -2.96 -0.02  0.15 -0.08 -0.05  2.03  0.    0.03 -0.05]\n",
      "Ridge gradient descent:   [ 2.56 -1.3  -0.03  0.23 -0.23 -0.21  0.91  0.09 -0.21 -0.06]\n"
     ]
    }
   ],
   "source": [
    "import numpy as np\n",
    "\n",
    "# Set random seed for reproducibility\n",
    "np.random.seed(0)\n",
    "\n",
    "# Define dataset size\n",
    "n_samples = 100\n",
    "n_features = 10\n",
    "\n",
    "# Define true coefficients (sparse linear relationship)\n",
    "theta_true = np.array([5.0, -3.0, 0.0, 0.0, 0.0, 0.0, 2.0, 0.0, 0.0, 0.0])\n",
    "\n",
    "# Generate feature matrix X (n_samples x n_features) with random values\n",
    "X = np.random.randn(n_samples, n_features)  # standard normal distribution\n",
    "\n",
    "# Generate target values y with a linear combination of X and theta_true, plus noise\n",
    "noise = 0.5 * np.random.randn(n_samples)    # Gaussian noise\n",
    "y = X.dot(theta_true) + noise\n",
    "\n",
    "def ols_closed_form(X, y):\n",
    "    return np.linalg.inv(X.T @ X) @ X.T @ y\n",
    "\n",
    "def ridge_closed_form(X, y, lam):\n",
    "    I = np.eye(X.shape[1])\n",
    "    return np.linalg.inv(X.T @ X + lam * I) @ X.T @ y\n",
    "\n",
    "theta_ols_closed = ols_closed_form(X, y)\n",
    "theta_ridge_closed = ridge_closed_form(X, y, lam=1.0)\n",
    "\n",
    "def ols_gradient(X, y, theta):\n",
    "    n = X.shape[0]\n",
    "    return (2/n) * X.T @ (X @ theta - y)\n",
    "\n",
    "def ridge_gradient(X, y, theta, lam):\n",
    "    n = X.shape[0]\n",
    "    return 2 * ((1/n) * (X.T @ (X @ theta - y)) + lam * theta)\n",
    "\n",
    "theta_ols_gd = gradient_descent(X, y, ols_gradient, eta=0.01)\n",
    "theta_ridge_gd = gradient_descent(X, y, ridge_gradient, eta=0.01, lam=1.0)\n",
    "\n",
    "\n",
    "def gradient_descent(X, y, grad_fn, eta=0.01, lam=0.0, \n",
    "                     num_iters=10000, tol=1e-6):\n",
    "    theta = np.zeros(X.shape[1])\n",
    "    for t in range(num_iters):\n",
    "        grad = grad_fn(X, y, theta) if lam == 0 else grad_fn(X, y, theta, lam)\n",
    "        new_theta = theta - eta * grad\n",
    "        if np.linalg.norm(new_theta - theta) < tol:\n",
    "            break\n",
    "        theta = new_theta\n",
    "    return theta\n",
    "\n",
    "print(\"True coefficients:       \", np.round(theta_true, 2))\n",
    "print(\"OLS closed form:         \", np.round(theta_ols_closed, 2))\n",
    "print(\"OLS gradient descent:    \", np.round(theta_ols_gd, 2))\n",
    "print(\"Ridge closed form (λ=1): \", np.round(theta_ridge_closed, 2))\n",
    "print(\"Ridge gradient descent:  \", np.round(theta_ridge_gd, 2))\n",
    "\n"
   ]
  },
  {
   "cell_type": "markdown",
   "id": "e2693666",
   "metadata": {
    "editable": true
   },
   "source": [
    "This code produces a dataset where only features 0, 1, and 6\n",
    "significantly influence $\\boldsymbol{y}$. The rest of the features have zero true\n",
    "coefficient. For example, feature 0 has\n",
    "a true weight of 5.0, feature 1 has -3.0, and feature 6 has 2.0, so\n",
    "the expected relationship is:"
   ]
  },
  {
   "cell_type": "markdown",
   "id": "bc954d12",
   "metadata": {
    "editable": true
   },
   "source": [
    "$$\n",
    "y \\approx 5 \\times x_0 \\;-\\; 3 \\times x_1 \\;+\\; 2 \\times x_6 \\;+\\; \\text{noise}.\n",
    "$$"
   ]
  },
  {
   "cell_type": "markdown",
   "id": "6534b610",
   "metadata": {
    "editable": true
   },
   "source": [
    "You can remove the noise if you wish to. \n",
    "\n",
    "Try to fit the above data set using OLS and Ridge regression with the analytical expressions and your own gradient descent codes.\n",
    "\n",
    "If everything worked correctly, the learned coefficients should be\n",
    "close to the true values [5.0, -3.0, 0.0, …, 2.0, …] that we used to\n",
    "generate the data. Keep in mind that due to regularization and noise,\n",
    "the learned values will not exactly equal the true ones, but they\n",
    "should be in the same ballpark.  Which method (OLS or Ridge) gives the best results?"
   ]
  }
 ],
 "metadata": {
  "kernelspec": {
   "display_name": ".venv",
   "language": "python",
   "name": "python3"
  },
  "language_info": {
   "codemirror_mode": {
    "name": "ipython",
    "version": 3
   },
   "file_extension": ".py",
   "mimetype": "text/x-python",
   "name": "python",
   "nbconvert_exporter": "python",
   "pygments_lexer": "ipython3",
   "version": "3.11.4"
  }
 },
 "nbformat": 4,
 "nbformat_minor": 5
}
