{
 "cells": [
  {
   "cell_type": "markdown",
   "id": "1da77599",
   "metadata": {},
   "source": [
    "# Exercises week 38\n",
    "\n",
    "## September 15-19\n",
    "\n",
    "## Resampling and the Bias-Variance Trade-off\n"
   ]
  },
  {
   "cell_type": "markdown",
   "id": "e9f27b0e",
   "metadata": {},
   "source": [
    "### Learning goals\n",
    "\n",
    "After completing these exercises, you will know how to\n",
    "\n",
    "- Derive expectation and variances values related to linear regression\n",
    "- Compute expectation and variances values related to linear regression\n",
    "- Compute and evaluate the trade-off between bias and variance of a model\n",
    "\n",
    "### Deliverables\n",
    "\n",
    "Complete the following exercises while working in a jupyter notebook. Then, in canvas, include\n",
    "\n",
    "- The jupyter notebook with the exercises completed\n",
    "- An exported PDF of the notebook (https://code.visualstudio.com/docs/datascience/jupyter-notebooks#_export-your-jupyter-notebook)\n"
   ]
  },
  {
   "cell_type": "markdown",
   "id": "984af8e3",
   "metadata": {},
   "source": [
    "## Use the books!\n",
    "\n",
    "This week deals with various mean values and variances in linear regression methods (here it may be useful to look up chapter 3, equation (3.8) of [Trevor Hastie, Robert Tibshirani, Jerome H. Friedman, The Elements of Statistical Learning, Springer](https://www.springer.com/gp/book/9780387848570)).\n",
    "\n",
    "For more discussions on Ridge regression and calculation of expectation values, [Wessel van Wieringen's](https://arxiv.org/abs/1509.09169) article is highly recommended.\n",
    "\n",
    "The exercises this week are also a part of project 1 and can be reused in the theory part of the project.\n",
    "\n",
    "### Definitions\n",
    "\n",
    "We assume that there exists a continuous function $f(\\boldsymbol{x})$ and a normal distributed error $\\boldsymbol{\\varepsilon}\\sim N(0, \\sigma^2)$ which describes our data\n"
   ]
  },
  {
   "cell_type": "markdown",
   "id": "c16f7d0e",
   "metadata": {},
   "source": [
    "$$\n",
    "\\boldsymbol{y} = f(\\boldsymbol{x})+\\boldsymbol{\\varepsilon}\n",
    "$$\n"
   ]
  },
  {
   "cell_type": "markdown",
   "id": "9fcf981a",
   "metadata": {
    "vscode": {
     "languageId": "plaintext"
    }
   },
   "source": [
    "We further assume that this continous function can be modeled with a linear model $\\mathbf{\\tilde{y}}$ of some features $\\mathbf{X}$.\n"
   ]
  },
  {
   "cell_type": "markdown",
   "id": "d4189366",
   "metadata": {},
   "source": [
    "$$\n",
    "\\boldsymbol{y} = \\boldsymbol{\\tilde{y}} + \\boldsymbol{\\varepsilon} = \\boldsymbol{X}\\boldsymbol{\\beta} +\\boldsymbol{\\varepsilon}\n",
    "$$\n"
   ]
  },
  {
   "cell_type": "markdown",
   "id": "f4fca21b",
   "metadata": {},
   "source": [
    "We therefore get that our data $\\boldsymbol{y}$ has an expectation value $\\boldsymbol{X}\\boldsymbol{\\beta}$ and variance $\\sigma^2$, that is $\\boldsymbol{y}$ follows a normal distribution with mean value $\\boldsymbol{X}\\boldsymbol{\\beta}$ and variance $\\sigma^2$.\n"
   ]
  },
  {
   "cell_type": "markdown",
   "id": "5de0c7e6",
   "metadata": {},
   "source": [
    "## Exercise 1: Expectation values for ordinary least squares expressions\n"
   ]
  },
  {
   "cell_type": "markdown",
   "id": "d878c699",
   "metadata": {},
   "source": [
    "**a)** With the expressions for the optimal parameters $\\boldsymbol{\\hat{\\beta}_{OLS}}$ show that\n"
   ]
  },
  {
   "cell_type": "markdown",
   "id": "08b7007d",
   "metadata": {},
   "source": [
    "$$\n",
    "\\mathbb{E}(\\boldsymbol{\\hat{\\beta}_{OLS}}) = \\boldsymbol{\\beta}.\n",
    "$$\n"
   ]
  },
  {
   "cell_type": "markdown",
   "id": "c2143254",
   "metadata": {},
   "source": [
    "We start from the linear model\n",
    "\n",
    "$$\n",
    "\\mathbf{y} = \\mathbf{X}\\boldsymbol{\\beta} + \\boldsymbol{\\varepsilon}, \\qquad \n",
    "\\mathbb{E}[\\boldsymbol{\\varepsilon}] = 0.\n",
    "$$\n",
    "\n",
    "The OLS estimator is\n",
    "\n",
    "$$\n",
    "\\hat{\\boldsymbol{\\beta}}_{OLS} = (\\mathbf{X}^T \\mathbf{X})^{-1} \\mathbf{X}^T \\mathbf{y}.\n",
    "$$\n",
    "\n",
    "Taking the expectation:\n",
    "\n",
    "$$\n",
    "\\begin{aligned}\n",
    "\\mathbb{E}[\\hat{\\boldsymbol{\\beta}}_{OLS}]\n",
    "&= (\\mathbf{X}^T \\mathbf{X})^{-1} \\mathbf{X}^T \\mathbb{E}[\\mathbf{y}] \\\\\n",
    "&= (\\mathbf{X}^T \\mathbf{X})^{-1} \\mathbf{X}^T \\mathbb{E}[\\mathbf{X}\\boldsymbol{\\beta} + \\boldsymbol{\\varepsilon}] \\\\\n",
    "&= (\\mathbf{X}^T \\mathbf{X})^{-1} \\mathbf{X}^T \\mathbf{X} \\boldsymbol{\\beta} \\\\\n",
    "&= \\boldsymbol{\\beta}.\n",
    "\\end{aligned}\n",
    "$$\n",
    "\n",
    "Hence, the OLS estimator is **unbiased**:\n",
    "\n",
    "$$\n",
    "\\mathbb{E}[\\hat{\\boldsymbol{\\beta}}_{OLS}] = \\boldsymbol{\\beta}.\n",
    "$$\n"
   ]
  },
  {
   "cell_type": "markdown",
   "id": "46e93394",
   "metadata": {},
   "source": [
    "**b)** Show that the variance of $\\boldsymbol{\\hat{\\beta}_{OLS}}$ is\n"
   ]
  },
  {
   "cell_type": "markdown",
   "id": "be1b65be",
   "metadata": {},
   "source": [
    "$$\n",
    "\\mathbf{Var}(\\boldsymbol{\\hat{\\beta}_{OLS}}) = \\sigma^2 \\, (\\mathbf{X}^{T} \\mathbf{X})^{-1}.\n",
    "$$\n"
   ]
  },
  {
   "cell_type": "markdown",
   "id": "5dda9285",
   "metadata": {},
   "source": [
    "As in part a)\n",
    "$$\n",
    "\\mathbf{y} = \\mathbf{X}\\boldsymbol{\\beta} + \\boldsymbol{\\varepsilon},\n",
    "\\qquad \\mathbb{E}[\\boldsymbol{\\varepsilon}]=\\mathbf{0}, \\qquad\n",
    "\\mathrm{Var}(\\boldsymbol{\\varepsilon})=\\sigma^2\\mathbf{I},\n",
    "$$\n",
    "$\\mathbf{X}^T\\mathbf{X}$ is invertible so the OLS estimate:\n",
    "$$\n",
    "\\hat{\\boldsymbol{\\beta}}_{OLS} = (\\mathbf{X}^T\\mathbf{X})^{-1}\\mathbf{X}^T\\mathbf{y}.\n",
    "$$\n",
    "\n",
    "Write $\\hat{\\boldsymbol{\\beta}}_{OLS}$ as a linear function of $\\boldsymbol{\\varepsilon}$:\n",
    "$$\n",
    "\\hat{\\boldsymbol{\\beta}}_{OLS}\n",
    "= (\\mathbf{X}^T\\mathbf{X})^{-1}\\mathbf{X}^T(\\mathbf{X}\\boldsymbol{\\beta}+\\boldsymbol{\\varepsilon})\n",
    "= \\boldsymbol{\\beta} + (\\mathbf{X}^T\\mathbf{X})^{-1}\\mathbf{X}^T\\boldsymbol{\\varepsilon}.\n",
    "$$\n",
    "\n",
    "Let $\\mathbf{A}=(\\mathbf{X}^T\\mathbf{X})^{-1}\\mathbf{X}^T$. Then\n",
    "$$\n",
    "\\mathrm{Var}(\\hat{\\boldsymbol{\\beta}}_{OLS})\n",
    "= \\mathrm{Var}\\big(\\mathbf{A}\\boldsymbol{\\varepsilon}\\big)\n",
    "= \\mathbf{A}\\,\\mathrm{Var}(\\boldsymbol{\\varepsilon})\\,\\mathbf{A}^T\n",
    "= \\sigma^2 \\mathbf{A}\\mathbf{A}^T.\n",
    "$$\n",
    "\n",
    "Compute $\\mathbf{A}\\mathbf{A}^T$:\n",
    "$$\n",
    "\\mathbf{A}\\mathbf{A}^T\n",
    "= \\big((\\mathbf{X}^T\\mathbf{X})^{-1}\\mathbf{X}^T\\big)\n",
    "\\big((\\mathbf{X}^T\\mathbf{X})^{-1}\\mathbf{X}^T\\big)^T\n",
    "= (\\mathbf{X}^T\\mathbf{X})^{-1}\\mathbf{X}^T\\mathbf{X}(\\mathbf{X}^T\\mathbf{X})^{-1}\n",
    "= (\\mathbf{X}^T\\mathbf{X})^{-1}.\n",
    "$$\n",
    "\n",
    "Therefore\n",
    "$$\n",
    "\\boxed{\\;\\mathrm{Var}(\\hat{\\boldsymbol{\\beta}}_{OLS}) = \\sigma^2(\\mathbf{X}^T\\mathbf{X})^{-1}\\;}\n",
    "$$\n",
    "\n",
    "This shows the covariance matrix of the OLS coefficients — in particular, the diagonal entries give the variances of the individual coefficient estimates.\n"
   ]
  },
  {
   "cell_type": "markdown",
   "id": "d2143684",
   "metadata": {},
   "source": [
    "We can use the last expression when we define a [confidence interval](https://en.wikipedia.org/wiki/Confidence_interval) for the parameters $\\boldsymbol{\\hat{\\beta}_{OLS}}$.\n",
    "A given parameter ${\\boldsymbol{\\hat{\\beta}_{OLS}}}_j$ is given by the diagonal matrix element of the above matrix.\n"
   ]
  },
  {
   "cell_type": "markdown",
   "id": "f5c2dc22",
   "metadata": {},
   "source": [
    "## Exercise 2: Expectation values for Ridge regression\n"
   ]
  },
  {
   "cell_type": "markdown",
   "id": "3893e3e7",
   "metadata": {},
   "source": [
    "**a)** With the expressions for the optimal parameters $\\boldsymbol{\\hat{\\beta}_{Ridge}}$ show that\n"
   ]
  },
  {
   "cell_type": "markdown",
   "id": "79dc571f",
   "metadata": {},
   "source": [
    "$$\n",
    "\\mathbb{E} \\big[ \\hat{\\boldsymbol{\\beta}}^{\\mathrm{Ridge}} \\big]=(\\mathbf{X}^{T} \\mathbf{X} + \\lambda \\mathbf{I}_{pp})^{-1} (\\mathbf{X}^{\\top} \\mathbf{X})\\boldsymbol{\\beta}\n",
    "$$\n"
   ]
  },
  {
   "cell_type": "markdown",
   "id": "028209a1",
   "metadata": {},
   "source": [
    "We see that $\\mathbb{E} \\big[ \\hat{\\boldsymbol{\\beta}}^{\\mathrm{Ridge}} \\big] \\not= \\mathbb{E} \\big[\\hat{\\boldsymbol{\\beta}}^{\\mathrm{OLS}}\\big ]$ for any $\\lambda > 0$.\n"
   ]
  },
  {
   "cell_type": "markdown",
   "id": "9e87b867",
   "metadata": {},
   "source": [
    "Recall the linear model\n",
    "$$\n",
    "\\mathbf{y}=\\mathbf{X}\\boldsymbol{\\beta}+\\boldsymbol{\\varepsilon},\\qquad\n",
    "\\mathbb{E}[\\boldsymbol{\\varepsilon}]=\\mathbf{0}.\n",
    "$$\n",
    "\n",
    "The Ridge estimator is\n",
    "$$\n",
    "\\hat{\\boldsymbol{\\beta}}^{\\mathrm{Ridge}}\n",
    "= \\big(\\mathbf{X}^\\top\\mathbf{X} + \\lambda \\mathbf{I}\\big)^{-1}\\mathbf{X}^\\top\\mathbf{y},\n",
    "\\qquad \\lambda \\ge 0.\n",
    "$$\n",
    "\n",
    "Substitute $\\mathbf{y}=\\mathbf{X}\\boldsymbol{\\beta}+\\boldsymbol{\\varepsilon}$ and take expectation:\n",
    "\n",
    "\n",
    "$$\n",
    "\\begin{aligned}\n",
    "\\mathbb{E}\\big[\\hat{\\boldsymbol{\\beta}}^{\\mathrm{Ridge}}\\big]\n",
    "&= \\big(\\mathbf{X}^\\top\\mathbf{X} + \\lambda \\mathbf{I}\\big)^{-1}\\mathbf{X}^\\top\n",
    "\\;\\mathbb{E}\\big[\\mathbf{X}\\boldsymbol{\\beta}+\\boldsymbol{\\varepsilon}\\big] \\\\\n",
    "&= \\big(\\mathbf{X}^\\top\\mathbf{X} + \\lambda \\mathbf{I}\\big)^{-1}\\mathbf{X}^\\top\n",
    "(\\mathbf{X}\\boldsymbol{\\beta} + \\mathbf{0}) \\\\\n",
    "&= \\big(\\mathbf{X}^\\top\\mathbf{X} + \\lambda \\mathbf{I}\\big)^{-1}\n",
    "\\big(\\mathbf{X}^\\top\\mathbf{X}\\big)\\,\\boldsymbol{\\beta}.\n",
    "\\end{aligned}\n",
    "$$\n",
    "\n",
    "Therefore\n",
    "$$\n",
    "\\boxed{\\;\\mathbb{E}\\big[\\hat{\\boldsymbol{\\beta}}^{\\mathrm{Ridge}}\\big]\n",
    "= \\big(\\mathbf{X}^\\top\\mathbf{X} + \\lambda \\mathbf{I}\\big)^{-1}\n",
    "\\big(\\mathbf{X}^\\top\\mathbf{X}\\big)\\,\\boldsymbol{\\beta}\\;}\n",
    "$$\n",
    "\n",
    "Note: unless $\\lambda=0$ this is **not equal** to $\\boldsymbol{\\beta}$, so the Ridge estimator is **biased**. In particular, as $\\lambda\\to 0$ the expression reduces to the OLS expectation $\\boldsymbol{\\beta}$.\n"
   ]
  },
  {
   "cell_type": "markdown",
   "id": "b4e721fc",
   "metadata": {},
   "source": [
    "**b)** Show that the variance is\n"
   ]
  },
  {
   "cell_type": "markdown",
   "id": "090eb1e1",
   "metadata": {},
   "source": [
    "$$\n",
    "\\mathbf{Var}[\\hat{\\boldsymbol{\\beta}}^{\\mathrm{Ridge}}]=\\sigma^2[  \\mathbf{X}^{T} \\mathbf{X} + \\lambda \\mathbf{I} ]^{-1}  \\mathbf{X}^{T}\\mathbf{X} \\{ [  \\mathbf{X}^{\\top} \\mathbf{X} + \\lambda \\mathbf{I} ]^{-1}\\}^{T}\n",
    "$$\n"
   ]
  },
  {
   "cell_type": "markdown",
   "id": "0c4949b5",
   "metadata": {},
   "source": [
    "### Exercise 2 (b) — Variance of the Ridge estimator\n",
    "\n",
    "Assume the linear model\n",
    "$$\n",
    "\\mathbf{y}=\\mathbf{X}\\boldsymbol{\\beta}+\\boldsymbol{\\varepsilon},\\qquad\n",
    "\\mathbb{E}[\\boldsymbol{\\varepsilon}]=\\mathbf{0},\\qquad\n",
    "\\mathrm{Var}(\\boldsymbol{\\varepsilon})=\\sigma^2\\mathbf{I},\n",
    "$$\n",
    "and let $\\lambda\\ge 0$. The Ridge estimator is\n",
    "$$\n",
    "\\hat{\\boldsymbol{\\beta}}^{\\mathrm{Ridge}}\n",
    "= \\big(\\mathbf{X}^{\\top}\\mathbf{X}+\\lambda\\mathbf{I}\\big)^{-1}\\mathbf{X}^{\\top}\\mathbf{y}.\n",
    "$$\n",
    "\n",
    "Write it as a linear function of $\\boldsymbol{\\varepsilon}$:\n",
    "$$\n",
    "\\begin{aligned}\n",
    "\\hat{\\boldsymbol{\\beta}}^{\\mathrm{Ridge}}\n",
    "&= \\big(\\mathbf{X}^{\\top}\\mathbf{X}+\\lambda\\mathbf{I}\\big)^{-1}\\mathbf{X}^{\\top}\n",
    "\\big(\\mathbf{X}\\boldsymbol{\\beta}+\\boldsymbol{\\varepsilon}\\big) \\\\\n",
    "&= \\underbrace{\\big(\\mathbf{X}^{\\top}\\mathbf{X}+\\lambda\\mathbf{I}\\big)^{-1}\\mathbf{X}^{\\top}\\mathbf{X}\\boldsymbol{\\beta}}_{\\text{deterministic}}\n",
    "\\;+\\;\n",
    "\\underbrace{\\big(\\mathbf{X}^{\\top}\\mathbf{X}+\\lambda\\mathbf{I}\\big)^{-1}\\mathbf{X}^{\\top}\\boldsymbol{\\varepsilon}}_{\\text{random part}}.\n",
    "\\end{aligned}\n",
    "$$\n",
    "\n",
    "Let\n",
    "$$\n",
    "\\mathbf{A} \\;=\\; \\big(\\mathbf{X}^{\\top}\\mathbf{X}+\\lambda\\mathbf{I}\\big)^{-1}\\mathbf{X}^{\\top}.\n",
    "$$\n",
    "Then the random part is $\\mathbf{A}\\boldsymbol{\\varepsilon}$, so\n",
    "$$\n",
    "\\mathrm{Var}\\!\\left(\\hat{\\boldsymbol{\\beta}}^{\\mathrm{Ridge}}\\right)\n",
    "= \\mathrm{Var}\\!\\left(\\mathbf{A}\\boldsymbol{\\varepsilon}\\right)\n",
    "= \\mathbf{A}\\,\\mathrm{Var}(\\boldsymbol{\\varepsilon})\\,\\mathbf{A}^{\\top}\n",
    "= \\sigma^2\\,\\mathbf{A}\\mathbf{A}^{\\top}.\n",
    "$$\n",
    "\n",
    "Compute $\\mathbf{A}\\mathbf{A}^{\\top}$:\n",
    "$$\n",
    "\\begin{aligned}\n",
    "\\mathbf{A}\\mathbf{A}^{\\top}\n",
    "&= \\Big(\\big(\\mathbf{X}^{\\top}\\mathbf{X}+\\lambda\\mathbf{I}\\big)^{-1}\\mathbf{X}^{\\top}\\Big)\n",
    "\\Big(\\big(\\mathbf{X}^{\\top}\\mathbf{X}+\\lambda\\mathbf{I}\\big)^{-1}\\mathbf{X}^{\\top}\\Big)^{\\top} \\\\\n",
    "&= \\big(\\mathbf{X}^{\\top}\\mathbf{X}+\\lambda\\mathbf{I}\\big)^{-1}\\mathbf{X}^{\\top}\\mathbf{X}\\,\n",
    "\\Big(\\big(\\mathbf{X}^{\\top}\\mathbf{X}+\\lambda\\mathbf{I}\\big)^{-1}\\Big)^{\\top}.\n",
    "\\end{aligned}\n",
    "$$\n",
    "\n",
    "Since $\\mathbf{X}^{\\top}\\mathbf{X}+\\lambda\\mathbf{I}$ is symmetric positive definite,\n",
    "$$\n",
    "\\Big(\\big(\\mathbf{X}^{\\top}\\mathbf{X}+\\lambda\\mathbf{I}\\big)^{-1}\\Big)^{\\top}\n",
    "= \\big(\\mathbf{X}^{\\top}\\mathbf{X}+\\lambda\\mathbf{I}\\big)^{-1}.\n",
    "$$\n",
    "\n",
    "Therefore\n",
    "$$\n",
    "\\boxed{\\;\n",
    "\\mathrm{Var}\\!\\left(\\hat{\\boldsymbol{\\beta}}^{\\mathrm{Ridge}}\\right)\n",
    "= \\sigma^2\\,\\big(\\mathbf{X}^{\\top}\\mathbf{X}+\\lambda\\mathbf{I}\\big)^{-1}\\,\n",
    "\\mathbf{X}^{\\top}\\mathbf{X}\\,\n",
    "\\big(\\mathbf{X}^{\\top}\\mathbf{X}+\\lambda\\mathbf{I}\\big)^{-1}\n",
    "\\;}\n",
    "$$\n",
    "\n",
    "**Checks and limits.**\n",
    "- If $\\lambda\\to 0$, this reduces to the OLS variance $\\;\\sigma^2(\\mathbf{X}^{\\top}\\mathbf{X})^{-1}$.\n",
    "- If $\\lambda\\to\\infty$, the variance tends to $\\mathbf{0}$ (strong shrinkage).\n"
   ]
  },
  {
   "cell_type": "markdown",
   "id": "6b8e8697",
   "metadata": {},
   "source": [
    "We see that if the parameter $\\lambda$ goes to infinity then the variance of the Ridge parameters $\\boldsymbol{\\beta}$ goes to zero.\n"
   ]
  },
  {
   "cell_type": "markdown",
   "id": "74bc300b",
   "metadata": {},
   "source": [
    "## Exercise 3: Deriving the expression for the Bias-Variance Trade-off\n"
   ]
  },
  {
   "cell_type": "markdown",
   "id": "eeb86010",
   "metadata": {},
   "source": [
    "The aim of this exercise is to derive the equations for the bias-variance tradeoff to be used in project 1.\n",
    "\n",
    "The parameters $\\boldsymbol{\\hat{\\beta}_{OLS}}$ are found by optimizing the mean squared error via the so-called cost function\n"
   ]
  },
  {
   "cell_type": "markdown",
   "id": "522a0d1d",
   "metadata": {},
   "source": [
    "$$\n",
    "C(\\boldsymbol{X},\\boldsymbol{\\beta}) =\\frac{1}{n}\\sum_{i=0}^{n-1}(y_i-\\tilde{y}_i)^2=\\mathbb{E}\\left[(\\boldsymbol{y}-\\boldsymbol{\\tilde{y}})^2\\right]\n",
    "$$\n"
   ]
  },
  {
   "cell_type": "markdown",
   "id": "831db06c",
   "metadata": {},
   "source": [
    "**a)** Show that you can rewrite this into an expression which contains\n",
    "\n",
    "- the variance of the model (the variance term)\n",
    "- the expected deviation of the mean of the model from the true data (the bias term)\n",
    "- the variance of the noise\n",
    "\n",
    "In other words, show that:\n"
   ]
  },
  {
   "cell_type": "markdown",
   "id": "8cc52b3c",
   "metadata": {},
   "source": [
    "$$\n",
    "\\mathbb{E}\\left[(\\boldsymbol{y}-\\boldsymbol{\\tilde{y}})^2\\right]=\\mathrm{Bias}[\\tilde{y}]+\\mathrm{var}[\\tilde{y}]+\\sigma^2,\n",
    "$$\n"
   ]
  },
  {
   "cell_type": "markdown",
   "id": "8cb50416",
   "metadata": {},
   "source": [
    "with\n"
   ]
  },
  {
   "cell_type": "markdown",
   "id": "e49bdbb4",
   "metadata": {},
   "source": [
    "$$\n",
    "\\mathrm{Bias}[\\tilde{y}]=\\mathbb{E}\\left[\\left(\\boldsymbol{y}-\\mathbb{E}\\left[\\boldsymbol{\\tilde{y}}\\right]\\right)^2\\right],\n",
    "$$\n"
   ]
  },
  {
   "cell_type": "markdown",
   "id": "eca5554a",
   "metadata": {},
   "source": [
    "and\n"
   ]
  },
  {
   "cell_type": "markdown",
   "id": "b1054343",
   "metadata": {},
   "source": [
    "$$\n",
    "\\mathrm{var}[\\tilde{y}]=\\mathbb{E}\\left[\\left(\\tilde{\\boldsymbol{y}}-\\mathbb{E}\\left[\\boldsymbol{\\tilde{y}}\\right]\\right)^2\\right]=\\frac{1}{n}\\sum_i(\\tilde{y}_i-\\mathbb{E}\\left[\\boldsymbol{\\tilde{y}}\\right])^2.\n",
    "$$\n",
    "In order to arrive at the equation for the bias, we have to approximate the unknown function $f$ with the output/target values $y$."
   ]
  },
  {
   "cell_type": "markdown",
   "id": "70fbfcd7",
   "metadata": {},
   "source": [
    "**b)** Explain what the terms mean and discuss their interpretations.\n"
   ]
  },
  {
   "cell_type": "markdown",
   "id": "f4fdadd3",
   "metadata": {},
   "source": [
    "We again assume the model\n",
    "$$\n",
    "y_i = f(x_i) + \\varepsilon_i,\\qquad \\mathbb{E}[\\varepsilon_i]=0,\\quad \\mathrm{Var}(\\varepsilon_i)=\\sigma^2,\n",
    "$$\n",
    "and let $\\tilde{y}_i$ be the predictions of the model\n",
    "$$\n",
    "\\mathbb{E}\\!\\left[(y_i-\\tilde{y}_i)^2\\right]\n",
    "= \\mathbb{E}\\!\\left[(f(x_i)+\\varepsilon_i-\\tilde{y}_i)^2\\right].\n",
    "$$\n",
    "\n",
    "Add and subtract $\\mathbb{E}[\\tilde{y}_i]$:\n",
    "$$\n",
    "\\begin{aligned}\n",
    "\\mathbb{E}\\!\\left[(y_i-\\tilde{y}_i)^2\\right]\n",
    "&= \\mathbb{E}\\!\\left[\\big(f(x_i)-\\mathbb{E}[\\tilde{y}_i] + \\mathbb{E}[\\tilde{y}_i]-\\tilde{y}_i + \\varepsilon_i\\big)^2\\right] \\\\\n",
    "&= \\underbrace{\\big(f(x_i)-\\mathbb{E}[\\tilde{y}_i]\\big)^2}_{\\text{bias}^2}\n",
    "+ \\underbrace{\\mathbb{E}\\!\\left[(\\tilde{y}_i-\\mathbb{E}[\\tilde{y}_i])^2\\right]}_{\\mathrm{Var}(\\tilde{y}_i)}\n",
    "+ \\underbrace{\\mathbb{E}[\\varepsilon_i^2]}_{\\sigma^2} \\\\\n",
    "&\\quad +\\; \\underbrace{2\\,(f(x_i)-\\mathbb{E}[\\tilde{y}_i])\\,\\mathbb{E}[\\tilde{y}_i-\\mathbb{E}[\\tilde{y}_i]]}_{=\\,0}\n",
    "\\;+\\; \\underbrace{2\\,\\mathbb{E}[(\\tilde{y}_i-\\mathbb{E}[\\tilde{y}_i])\\,\\varepsilon_i]}_{=\\,0}.\n",
    "\\end{aligned}\n",
    "$$\n",
    "\n",
    "The cross-terms vanish because $\\mathbb{E}[\\tilde{y}_i-\\mathbb{E}[\\tilde{y}_i]]=0$ and, at test time, $\\tilde{y}_i$ is independent of $\\varepsilon_i$ with $\\mathbb{E}[\\varepsilon_i]=0$. Therefore,\n",
    "$$\n",
    "\\boxed{\\;\n",
    "\\mathbb{E}\\!\\left[(y_i-\\tilde{y}_i)^2\\right]\n",
    "= \\big(f(x_i)-\\mathbb{E}[\\tilde{y}_i]\\big)^2 \\;+\\; \\mathrm{Var}(\\tilde{y}_i) \\;+\\; \\sigma^2\n",
    "\\;}\n",
    "$$\n",
    "\n",
    "Averaging over all points $i=1,\\dots,n$ yields the dataset-level decomposition:\n",
    "$$\n",
    "\\boxed{\\;\n",
    "\\frac{1}{n}\\sum_{i=1}^n \\mathbb{E}\\!\\left[(y_i-\\tilde{y}_i)^2\\right]\n",
    "= \\frac{1}{n}\\sum_{i=1}^n \\big(f(x_i)-\\mathbb{E}[\\tilde{y}_i]\\big)^2\n",
    "\\;+\\; \\frac{1}{n}\\sum_{i=1}^n \\mathrm{Var}(\\tilde{y}_i) \\;+\\; \\sigma^2\n",
    "\\;}\n",
    "$$\n",
    "\n",
    "**Interpretation of terms (brief):**\n",
    "- Bias $^2$ : shows how far our model´s average prediction is from the actual function. High bias - underfitting (model not good enough)\n",
    "- Variance: sensitivity of the model when trained on different data drawn from same distribution. High variance - model is sensitive to noise (overfitting)\n",
    "- $\\sigma^2$: irreducible error caused by randomness in the data-generating process .\n"
   ]
  },
  {
   "cell_type": "markdown",
   "id": "b8f8b9d1",
   "metadata": {},
   "source": [
    "## Exercise 4: Computing the Bias and Variance\n"
   ]
  },
  {
   "cell_type": "markdown",
   "id": "9e012430",
   "metadata": {},
   "source": [
    "Before you compute the bias and variance of a real model for different complexities, let's for now assume that you have sampled predictions and targets for a single model complexity using bootstrap resampling.\n",
    "\n",
    "**a)** Using the expression above, compute the mean squared error, bias and variance of the given data. Check that the sum of the bias and variance correctly gives (approximately) the mean squared error.\n"
   ]
  },
  {
   "cell_type": "code",
   "execution_count": 2,
   "id": "b5bf581c",
   "metadata": {},
   "outputs": [
    {
     "name": "stdout",
     "output_type": "stream",
     "text": [
      "MSE       : 218.804291\n",
      "Bias^2    : 210.444417\n",
      "Variance  : 8.278685\n",
      "Noise     : 0.083330\n",
      "Bias^2 + Variance + Noise = 218.806432\n",
      "Difference (MSE - sum)    = -2.140765e-03\n"
     ]
    }
   ],
   "source": [
    "import numpy as np\n",
    "\n",
    "n = 100\n",
    "bootstraps = 1000\n",
    "\n",
    "predictions = np.random.rand(bootstraps, n) * 10 + 10\n",
    "targets = np.random.rand(bootstraps, n)\n",
    "\n",
    "yhat_mean = predictions.mean(axis=0)\n",
    "y_mean = targets.mean(axis=0)\n",
    "\n",
    "mse = np.mean((targets - predictions)**2)\n",
    "\n",
    "bias = bias = np.mean((y_mean - yhat_mean)**2)\n",
    "\n",
    "variance = variance = np.mean(np.var(predictions, axis=0, ddof=0))\n",
    "\n",
    "noise = np.mean(np.var(targets, axis=0, ddof=0))\n",
    "\n",
    "print(f\"MSE       : {mse:.6f}\")\n",
    "print(f\"Bias^2    : {bias:.6f}\")\n",
    "print(f\"Variance  : {variance:.6f}\")\n",
    "print(f\"Noise     : {noise:.6f}\")\n",
    "print(f\"Bias^2 + Variance + Noise = {bias + variance + noise:.6f}\")\n",
    "print(f\"Difference (MSE - sum)    = {mse - (bias + variance + noise):.6e}\")"
   ]
  },
  {
   "cell_type": "markdown",
   "id": "7b1dc621",
   "metadata": {},
   "source": [
    "**b)** Change the prediction values in some way to increase the bias while decreasing the variance.\n",
    "\n",
    "**c)** Change the prediction values in some way to increase the variance while decreasing the bias.\n"
   ]
  },
  {
   "cell_type": "code",
   "execution_count": null,
   "id": "ec58d141",
   "metadata": {},
   "outputs": [
    {
     "name": "stdout",
     "output_type": "stream",
     "text": [
      "=== 4(b) Increase bias, decrease variance ===\n",
      "Baseline:   MSE=218.804291  Bias^2=210.444417  Var=8.278685\n",
      "Modified b: MSE=380.591922 Bias^2=380.508592 Var=0.000001\n",
      "(Expect Bias^2 ↑ and Var ↓ compared to baseline.)\n"
     ]
    }
   ],
   "source": [
    "yhat_mean = predictions.mean(axis=0)                       \n",
    "offset = 5.0                                               \n",
    "pred_b = np.tile(yhat_mean, (bootstraps, 1)) + offset\n",
    "\n",
    "pred_b += np.random.normal(0, 1e-3, size=pred_b.shape)\n",
    "\n",
    "mse_b  = np.mean((targets - pred_b)**2)\n",
    "bias_b = np.mean((targets.mean(axis=0) - pred_b.mean(axis=0))**2)\n",
    "var_b  = np.mean(np.var(pred_b, axis=0, ddof=0))\n",
    "\n",
    "print(\"=== 4(b) Increase bias, decrease variance ===\")\n",
    "print(f\"Baseline:   MSE={mse:.6f}  Bias^2={bias:.6f}  Var={variance:.6f}\")\n",
    "print(f\"Modified b: MSE={mse_b:.6f} Bias^2={bias_b:.6f} Var={var_b:.6f}\")\n",
    "print(f\"(Expect Bias^2 ↑ and Var ↓ compared to baseline.)\")"
   ]
  },
  {
   "cell_type": "code",
   "execution_count": null,
   "id": "7ae50fa5",
   "metadata": {},
   "outputs": [
    {
     "name": "stdout",
     "output_type": "stream",
     "text": [
      "=== 4(c) Increase variance, decrease bias ===\n",
      "Baseline:   MSE=218.804291  Bias^2=210.444417  Var=8.278685\n",
      "Modified c: MSE=33.193788 Bias^2=0.000000 Var=33.114740\n",
      "(Expect Bias^2 ↓ and Var ↑ compared to baseline.)\n"
     ]
    }
   ],
   "source": [
    "yhat_mean = predictions.mean(axis=0)     \n",
    "y_mean    = targets.mean(axis=0)         \n",
    "delta     = y_mean - yhat_mean           \n",
    "\n",
    "gamma = 2.0  \n",
    "\n",
    "pred_c = (yhat_mean + delta)[None, :] + gamma * (predictions - yhat_mean[None, :])\n",
    "\n",
    "mse_c  = np.mean((targets - pred_c)**2)\n",
    "bias_c = np.mean((targets.mean(axis=0) - pred_c.mean(axis=0))**2)\n",
    "var_c  = np.mean(np.var(pred_c, axis=0, ddof=0))\n",
    "\n",
    "print(\"=== 4(c) Increase variance, decrease bias ===\")\n",
    "print(f\"Baseline:   MSE={mse:.6f}  Bias^2={bias:.6f}  Var={variance:.6f}\")\n",
    "print(f\"Modified c: MSE={mse_c:.6f} Bias^2={bias_c:.6f} Var={var_c:.6f}\")\n",
    "print(f\"(Expect Bias^2 ↓ and Var ↑ compared to baseline.)\")"
   ]
  },
  {
   "cell_type": "markdown",
   "id": "8da63362",
   "metadata": {},
   "source": [
    "**d)** Perform a bias-variance analysis of a polynomial OLS model fit to a one-dimensional function by computing and plotting the bias and variances values as a function of the polynomial degree of your model.\n"
   ]
  },
  {
   "cell_type": "code",
   "execution_count": 10,
   "id": "dd5855e4",
   "metadata": {},
   "outputs": [],
   "source": [
    "import numpy as np\n",
    "import matplotlib.pyplot as plt\n",
    "from sklearn.preprocessing import (\n",
    "    PolynomialFeatures,\n",
    ")  # use the fit_transform method of the created object!\n",
    "from sklearn.linear_model import LinearRegression\n",
    "from sklearn.metrics import mean_squared_error\n",
    "from sklearn.model_selection import train_test_split\n",
    "from sklearn.utils import resample"
   ]
  },
  {
   "cell_type": "code",
   "execution_count": 11,
   "id": "7e35fa37",
   "metadata": {},
   "outputs": [
    {
     "data": {
      "image/png": "[encoded data removed]",
      "text/plain": [
       "<Figure size 600x400 with 1 Axes>"
      ]
     },
     "metadata": {},
     "output_type": "display_data"
    }
   ],
   "source": [
    "n = 100\n",
    "bootstraps = 1000\n",
    "\n",
    "x = np.linspace(-3, 3, n)\n",
    "y = np.exp(-(x**2)) + 1.5 * np.exp(-((x - 2) ** 2)) + np.random.normal(0, 0.1)\n",
    "\n",
    "biases = []\n",
    "variances = []\n",
    "mses = []\n",
    "\n",
    "def _bvm(predictions, targets):\n",
    "    preds = np.asarray(predictions)\n",
    "    targs = np.asarray(targets)\n",
    "    mse = np.mean((targs - preds) ** 2)\n",
    "    mean_pred = preds.mean(axis=0)\n",
    "    bias2 = np.mean((targs[0, :] - mean_pred) ** 2)  \n",
    "    var = np.mean(np.var(preds, axis=0, ddof=0))\n",
    "    return mse, bias2, var\n",
    "\n",
    "degrees = range(1, 16)\n",
    "\n",
    "X = x.reshape(-1, 1)\n",
    "rng = np.random.RandomState(0)\n",
    "\n",
    "for p in degrees:\n",
    "    X_train, X_test, y_train, y_test = train_test_split(X, y, test_size=0.3, random_state=rng.randint(10_000))\n",
    "    \n",
    "    poly = PolynomialFeatures(degree=p, include_bias=True)\n",
    "    X_test_poly = poly.fit_transform(X_test)  \n",
    "\n",
    "    predictions = np.empty((bootstraps, len(y_test)))\n",
    "    targets = np.broadcast_to(y_test[None, :], (bootstraps, len(y_test)))\n",
    "\n",
    "    for b in range(bootstraps):\n",
    "        X_tr_b, y_tr_b = resample(X_train, y_train, replace=True, random_state=b)\n",
    "\n",
    "        X_tr_b_poly = poly.fit_transform(X_tr_b)\n",
    "\n",
    "        model = LinearRegression(fit_intercept=False)  \n",
    "        model.fit(X_tr_b_poly, y_tr_b)\n",
    "        y_pred = model.predict(X_test_poly)\n",
    "\n",
    "        predictions[b, :] = y_pred\n",
    "\n",
    "    mse_p, bias2_p, var_p = _bvm(predictions, targets)\n",
    "    mses.append(mse_p); biases.append(bias2_p); variances.append(var_p)\n",
    "\n",
    "\n",
    "plt.figure(figsize=(6,4))\n",
    "plt.plot(list(degrees), mses,     label=\"MSE\")\n",
    "plt.plot(list(degrees), biases,   label=\"Bias^2\")\n",
    "plt.plot(list(degrees), variances,label=\"Variance\")\n",
    "plt.xlabel(\"Polynomial degree\"); plt.ylabel(\"Metric value\")\n",
    "plt.title(\"Bias–Variance–MSE vs. polynomial degree (OLS)\")\n",
    "plt.legend(); plt.tight_layout(); plt.show()"
   ]
  },
  {
   "cell_type": "markdown",
   "id": "253b8461",
   "metadata": {},
   "source": [
    "**e)** Discuss the bias-variance trade-off as function of your model complexity (the degree of the polynomial).\n",
    "\n",
    "**f)** Compute and discuss the bias and variance as function of the number of data points (choose a suitable polynomial degree to show something interesting).\n"
   ]
  },
  {
   "cell_type": "markdown",
   "id": "831f2d87",
   "metadata": {},
   "source": [
    "Low polynomial degrees (underfitting) - the model is too simple to capture the curved signal. Results in high bias and low variance.\n",
    "\n",
    "Intermediate degrees (sweet spot) - When degree increases, the model fits the data more flexibly. Bias is lower and variace gets higher. MSE is minimal here\n",
    "\n",
    "High polynomial degrees (overfitting) - small changes in the training sample cause large coefficient swings. Variance becomes large, and MSE increases"
   ]
  },
  {
   "cell_type": "code",
   "execution_count": 12,
   "id": "9df5698d",
   "metadata": {},
   "outputs": [
    {
     "data": {
      "image/png": "[encoded data removed]",
      "text/plain": [
       "<Figure size 600x400 with 1 Axes>"
      ]
     },
     "metadata": {},
     "output_type": "display_data"
    }
   ],
   "source": [
    "def run_one_degree(x, y, degree, bootstraps=500, train_frac=0.7, seed=0):\n",
    "    X = x.reshape(-1, 1)\n",
    "    rng = np.random.RandomState(seed)\n",
    "    X_train, X_test, y_train, y_test = train_test_split(X, y, test_size=1-train_frac, random_state=rng.randint(10_000))\n",
    "\n",
    "    poly = PolynomialFeatures(degree=degree, include_bias=True)\n",
    "    X_test_poly = poly.fit_transform(X_test)\n",
    "\n",
    "    predictions = np.empty((bootstraps, len(y_test)))\n",
    "    targets = np.broadcast_to(y_test[None, :], (bootstraps, len(y_test)))\n",
    "\n",
    "    for b in range(bootstraps):\n",
    "        X_tr_b, y_tr_b = resample(X_train, y_train, replace=True, random_state=b)\n",
    "        X_tr_b_poly = poly.fit_transform(X_tr_b)\n",
    "\n",
    "        model = LinearRegression(fit_intercept=False)\n",
    "        model.fit(X_tr_b_poly, y_tr_b)\n",
    "        predictions[b, :] = model.predict(X_test_poly)\n",
    "\n",
    "    mse, bias2, var = _bvm(predictions, targets)\n",
    "    return mse, bias2, var\n",
    "\n",
    "deg_star = int(np.argmin(mses)) + 1           \n",
    "deg_for_size = max(deg_star + 3, 3)\n",
    "\n",
    "train_fracs = np.linspace(0.2, 0.85, 8)\n",
    "mse_sz, bias2_sz, var_sz = [], [], []\n",
    "\n",
    "for frac in train_fracs:\n",
    "    m, b2, v = run_one_degree(x, y, degree=deg_for_size, bootstraps=500, train_frac=float(frac), seed=42)\n",
    "    mse_sz.append(m); bias2_sz.append(b2); var_sz.append(v)\n",
    "\n",
    "plt.figure(figsize=(6,4))\n",
    "plt.plot(train_fracs, mse_sz,   label=\"MSE\")\n",
    "plt.plot(train_fracs, bias2_sz, label=\"Bias^2\")\n",
    "plt.plot(train_fracs, var_sz,   label=\"Variance\")\n",
    "plt.xlabel(\"Training fraction\"); plt.ylabel(\"Metric value\")\n",
    "plt.title(f\"Bias–Variance–MSE vs training size (degree={deg_for_size})\")\n",
    "plt.legend(); plt.tight_layout(); plt.show()"
   ]
  },
  {
   "cell_type": "markdown",
   "id": "46250fbc",
   "metadata": {},
   "source": [
    "## Exercise 5: Interpretation of scaling and metrics\n"
   ]
  },
  {
   "cell_type": "markdown",
   "id": "5af53055",
   "metadata": {},
   "source": [
    "In this course, we often ask you to scale data and compute various metrics. Although these practices are \"standard\" in the field, we will require you to demonstrate an understanding of _why_ you need to scale data and use these metrics. Both so that you can make better arguements about your results, and so that you will hopefully make fewer mistakes.\n",
    "\n",
    "First, a few reminders: In this course you should always scale the columns of the feature matrix, and sometimes scale the target data, when it is worth the effort. By scaling, we mean subtracting the mean and dividing by the standard deviation, though there are many other ways to scale data. When scaling either the feature matrix or the target data, the intercept becomes a bit harder to implement and understand, so take care.\n",
    "\n",
    "Briefly answer the following:\n",
    "\n",
    "**a)** Why do we scale data?\n",
    "\n",
    "We scale our features due to several reasons but the main is fair contribution of the features. If there is a big difference in the value of the features it is hard to compare them.\n",
    "\n",
    "**b)** Why does the OLS method give practically equivelent models on scaled and unscaled data?\n",
    "\n",
    "OLS fits the line that minimizes the squared error and scaling just rescales the coefficient. Either way, the y (target values) remain unchanged. \n",
    "\n",
    "**c)** Why does the Ridge method **not** give practically equivelent models on scaled and unscaled data? Why do we only consider the model on scaled data correct?\n",
    "\n",
    "As we know Ridge minimizes the penalized loss. The model shrinks features unevenly, and the relative importance of features depends on their units, not on their true contribution.\n",
    "\n",
    "**d)** Why do we say that the Ridge method gives a biased model?\n",
    "\n",
    "We say Ridge gives a biased model because the regularization term shrinks the regression coefficients toward zero, which systematically shifts predictions away from the true values.\n",
    "\n",
    "**e)** Is the MSE of the OLS method affected by scaling of the feature matrix? Is it affected by scaling of the target data?\n",
    "\n",
    "The MSE of the OLS method is not affected by scaling the feature matrix, because scaling features only rescales the coefficients and leaves predictions unchanged.\n",
    "However, the MSE is affected by scaling the target data, since the residuals scale with the targets, and the squared errors therefore scale quadratically with the target transformation.\n",
    "\n",
    "**f)** Read about the R2 score, a metric we will ask you to use a lot later in the course. Is the R2 score of the OLS method affected by scaling of the feature matrix? Is it affected by scaling of the target data?\n",
    "\n",
    "The score of the OLS method is not affected by scaling of the feature matrix, because scaling features only rescales coefficients while predictions remain unchanged.\n",
    "It is also not affected by scaling of the target data, because both the residual sum of squares and the total sum of squares scale in the same way, leaving their ratio unchanged.\n",
    "\n",
    "**g)** Give interpretations of the following R2 scores: 0, 0.5, 1.\n",
    "\n",
    "1: perfect fit, all variance explained (in practice this is overfitting unless there´s isn´t noise)\n",
    "\n",
    "0.5: model explains half of the variance, moderately good fit.\n",
    "\n",
    "0: model explains none of the variance, no better than predicting the mean.\n",
    "\n",
    "**h)** What is an advantage of the R2 score over the MSE?\n",
    "\n",
    "The main advantage of R^2 over MSE is that it does not depend on the scale of the data and is easy to understand as “the fraction of variation explained by the model.” MSE, on the other hand, changes with the units of the target variable and is harder to compare.\n"
   ]
  }
 ],
 "metadata": {
  "kernelspec": {
   "display_name": ".venv",
   "language": "python",
   "name": "python3"
  },
  "language_info": {
   "codemirror_mode": {
    "name": "ipython",
    "version": 3
   },
   "file_extension": ".py",
   "mimetype": "text/x-python",
   "name": "python",
   "nbconvert_exporter": "python",
   "pygments_lexer": "ipython3",
   "version": "3.11.4"
  }
 },
 "nbformat": 4,
 "nbformat_minor": 5
}
