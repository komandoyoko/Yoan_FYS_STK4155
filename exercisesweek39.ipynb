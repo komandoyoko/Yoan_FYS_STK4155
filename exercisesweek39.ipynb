{
 "cells": [
  {
   "cell_type": "markdown",
   "id": "1a12eee2",
   "metadata": {},
   "source": [
    "Exercise 2: Adding good figures"
   ]
  },
  {
   "cell_type": "code",
   "execution_count": null,
   "id": "f898d8a6",
   "metadata": {},
   "outputs": [
    {
     "ename": "",
     "evalue": "",
     "output_type": "error",
     "traceback": [
      "\u001b[1;31mThe kernel failed to start as the Python Environment '.venv (Python -1.-1.-1)' is no longer available. Consider selecting another kernel or refreshing the list of Python Environments."
     ]
    }
   ],
   "source": [
    "# a)\n",
    "import numpy as np\n",
    "import matplotlib.pyplot as plt\n",
    "\n",
    "# x-axis: model complexity\n",
    "x = np.linspace(0, 10, 200)\n",
    "\n",
    "# Example functions (stylized, not from real data)\n",
    "bias2 = np.exp(-0.5 * x) + 0.15           # Bias^2 decreases\n",
    "variance = 0.02 * np.exp(0.5 * x)         # Variance increases\n",
    "irreducible_error = np.full_like(x, 0.15) # Constant\n",
    "total_error = bias2 + variance + irreducible_error\n",
    "\n",
    "# Plot\n",
    "plt.figure(figsize=(8, 5))\n",
    "plt.plot(x, bias2, label=r'Bias$^2$', linewidth=2)\n",
    "plt.plot(x, variance, label='Variance', linewidth=2)\n",
    "plt.plot(x, irreducible_error, '--', label='Irreducible error', linewidth=2)\n",
    "plt.plot(x, total_error, label='Total error', linewidth=2, color='black')\n",
    "\n",
    "plt.xlabel(\"Model complexity\", fontsize=12)\n",
    "plt.ylabel(\"Error\", fontsize=12)\n",
    "plt.title(\"Bias–Variance Trade-off\", fontsize=14)\n",
    "plt.legend()\n",
    "plt.grid(True)\n",
    "plt.show()\n"
   ]
  }
 ],
 "metadata": {
  "kernelspec": {
   "display_name": ".venv",
   "language": "python",
   "name": "python3"
  },
  "language_info": {
   "name": "python",
   "version": "-1.-1.-1"
  }
 },
 "nbformat": 4,
 "nbformat_minor": 5
}
